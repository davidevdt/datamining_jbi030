{
 "cells": [
  {
   "cell_type": "code",
   "execution_count": 1,
   "metadata": {
    "scrolled": true
   },
   "outputs": [],
   "source": [
    "import pandas as pd \n",
    "import numpy as np\n",
    "%matplotlib inline\n",
    "import matplotlib.pyplot as plt "
   ]
  },
  {
   "cell_type": "markdown",
   "metadata": {},
   "source": [
    "=================================================================================================================\n",
    "# Neural Networks in Practice: scikit-learn\n",
    "\n",
    "\n",
    "##### D.Vidotto, Data Mining: JBI030 2019/2020\n",
    "\n",
    "\n",
    "=================================================================================================================\n",
    "\n",
    "\n",
    "In this notebook, we are going to see how to setup and train Feedforward Neural Networks with scikit-learn. For this purpose, we are going to explore the usage of two functions from the `neural_network` module: [MLPRegressor](https://scikit-learn.org/stable/modules/generated/sklearn.neural_network.MLPRegressor.html) and [MLPClassifier](https://scikit-learn.org/stable/modules/generated/sklearn.neural_network.MLPClassifier.html).\n",
    "\n",
    "In this notebook we will go through the same examples of the notebook dedicated to Keras. Since we are already familiar with scikit-learn, we will have simply have a quick overview of their Neural Network implementations. \n",
    "\n",
    "Here, we will go through the following examples:\n",
    "\n",
    "1. Regression \n",
    "1. Classification\n",
    "  * Binary Classification\n",
    "  * Multiclass Classification\n",
    "1. cross-validation with the Heart Dataset"
   ]
  },
  {
   "cell_type": "markdown",
   "metadata": {},
   "source": [
    "## 1. Regression\n",
    "For the regression example, we will use the [Boston Houses dataset](https://scikit-learn.org/stable/modules/generated/sklearn.datasets.load_boston.html). The data contains contains information collected by the U.S Census Service concerning housing in Boston; the sample size is 506, and there are 13 features. The target variable is the median value of houses in different areas of Boston. More information about the dataset can be found [here](https://www.cs.toronto.edu/~delve/data/boston/bostonDetail.html).\n",
    "\n",
    "Let's load the data: "
   ]
  },
  {
   "cell_type": "code",
   "execution_count": 2,
   "metadata": {},
   "outputs": [
    {
     "data": {
      "text/plain": [
       "dict_keys(['data', 'target', 'feature_names', 'DESCR', 'filename'])"
      ]
     },
     "execution_count": 2,
     "metadata": {},
     "output_type": "execute_result"
    }
   ],
   "source": [
    "from sklearn.datasets import load_boston\n",
    "bunch_data = load_boston()\n",
    "bunch_data.keys()"
   ]
  },
  {
   "cell_type": "code",
   "execution_count": 3,
   "metadata": {},
   "outputs": [
    {
     "data": {
      "text/plain": [
       "array(['CRIM', 'ZN', 'INDUS', 'CHAS', 'NOX', 'RM', 'AGE', 'DIS', 'RAD',\n",
       "       'TAX', 'PTRATIO', 'B', 'LSTAT'], dtype='<U7')"
      ]
     },
     "execution_count": 3,
     "metadata": {},
     "output_type": "execute_result"
    }
   ],
   "source": [
    "# Feature names \n",
    "bunch_data.feature_names"
   ]
  },
  {
   "cell_type": "code",
   "execution_count": 4,
   "metadata": {},
   "outputs": [
    {
     "data": {
      "text/plain": [
       "(506, 13)"
      ]
     },
     "execution_count": 4,
     "metadata": {},
     "output_type": "execute_result"
    }
   ],
   "source": [
    "X, y = bunch_data.data, bunch_data.target\n",
    "X.shape"
   ]
  },
  {
   "cell_type": "markdown",
   "metadata": {},
   "source": [
    "**Some preprocessing**..."
   ]
  },
  {
   "cell_type": "code",
   "execution_count": 5,
   "metadata": {},
   "outputs": [],
   "source": [
    "# Train-test split (separate 10% of the data for the test set - we won't use a separate validation set here)\n",
    "from sklearn.model_selection import train_test_split\n",
    "X_train, X_test, y_train, y_test = train_test_split(X, y, test_size=0.1, random_state=1)"
   ]
  },
  {
   "cell_type": "code",
   "execution_count": 6,
   "metadata": {},
   "outputs": [
    {
     "data": {
      "text/plain": [
       "array([[1.0290e-01, 3.0000e+01, 4.9300e+00, 0.0000e+00, 4.2800e-01,\n",
       "        6.3580e+00, 5.2900e+01, 7.0355e+00, 6.0000e+00, 3.0000e+02,\n",
       "        1.6600e+01, 3.7275e+02, 1.1220e+01],\n",
       "       [2.9850e-02, 0.0000e+00, 2.1800e+00, 0.0000e+00, 4.5800e-01,\n",
       "        6.4300e+00, 5.8700e+01, 6.0622e+00, 3.0000e+00, 2.2200e+02,\n",
       "        1.8700e+01, 3.9412e+02, 5.2100e+00],\n",
       "       [2.3004e+00, 0.0000e+00, 1.9580e+01, 0.0000e+00, 6.0500e-01,\n",
       "        6.3190e+00, 9.6100e+01, 2.1000e+00, 5.0000e+00, 4.0300e+02,\n",
       "        1.4700e+01, 2.9709e+02, 1.1100e+01],\n",
       "       [2.0746e-01, 0.0000e+00, 2.7740e+01, 0.0000e+00, 6.0900e-01,\n",
       "        5.0930e+00, 9.8000e+01, 1.8226e+00, 4.0000e+00, 7.1100e+02,\n",
       "        2.0100e+01, 3.1843e+02, 2.9680e+01],\n",
       "       [1.1027e-01, 2.5000e+01, 5.1300e+00, 0.0000e+00, 4.5300e-01,\n",
       "        6.4560e+00, 6.7800e+01, 7.2255e+00, 8.0000e+00, 2.8400e+02,\n",
       "        1.9700e+01, 3.9690e+02, 6.7300e+00]])"
      ]
     },
     "execution_count": 6,
     "metadata": {},
     "output_type": "execute_result"
    }
   ],
   "source": [
    "X_train[:5]"
   ]
  },
  {
   "cell_type": "code",
   "execution_count": 7,
   "metadata": {
    "scrolled": true
   },
   "outputs": [
    {
     "data": {
      "image/png": "[encoded data removed]",
      "text/plain": [
       "<Figure size 360x360 with 1 Axes>"
      ]
     },
     "metadata": {
      "needs_background": "light"
     },
     "output_type": "display_data"
    }
   ],
   "source": [
    "# Histogram of the target\n",
    "plt.figure(figsize=(5,5))\n",
    "plt.hist(y_train)\n",
    "plt.show()"
   ]
  },
  {
   "cell_type": "code",
   "execution_count": 8,
   "metadata": {},
   "outputs": [],
   "source": [
    "# Rescale data with min-max scaler\n",
    "from sklearn.preprocessing import MinMaxScaler\n",
    "mms = MinMaxScaler()\n",
    "X_train_scaled = mms.fit_transform(X_train)\n",
    "X_test_scaled =mms.transform(X_test)"
   ]
  },
  {
   "cell_type": "markdown",
   "metadata": {},
   "source": [
    "**Setting the Regression FNN**. We are now going to use Keras to set up a Regression NN. Let's review the components of a Regression network: \n",
    "* the input layer contains as many neurons as the number of features\n",
    "* as we are predicting just one continuous output, we can set up the network with one output layer\n",
    "* the loss function is the mean squared error \n",
    "* no activation function is used for the output layer\n",
    "\n",
    "Here, we are going to build a Neural Network with the following characteristics: \n",
    "* 5 neurons in the first hidden layer (`hidden_layer_sizes` which takes a tuple with the number of neurons as input)\n",
    "* ReLU activation function for the hidden layer (`activation='relu'`)\n",
    "* early stopping (`early_stopping=True`)\n",
    "    * training will be stopped if there is no improvement on the validation set for 10 iterations  (`n_iter_no_change=10`)\n",
    "* a maximum number of 1000 epochs (`max_iter=1000`)\n",
    "* SGD (`solver='sgd'`) with momentum optimizer with:\n",
    "    * batch size = 32 (`batch_size=32`) \n",
    "    * constant learning rate = 0.001 (`learning_rate_init=0.001`)\n",
    "    * momentum = 0.9 (`momentum=0.9`)\n",
    "* $l_2$ with penalty = 0.001 (`alpha=0.001`)\n",
    "\n",
    "Furthrermore, we will also set `validation_fraction=0.1` to evaluate the early stopping, and `random_state=1` for reproducibility. Last, note that MLPRegressor uses already the squared error as a loss function. "
   ]
  },
  {
   "cell_type": "code",
   "execution_count": 9,
   "metadata": {
    "scrolled": true
   },
   "outputs": [],
   "source": [
    "from sklearn.neural_network import MLPRegressor\n",
    "model = MLPRegressor(hidden_layer_sizes=(5, ), \n",
    "                     activation='relu', \n",
    "                     solver='sgd', \n",
    "                     alpha=0.001, \n",
    "                     batch_size=32, \n",
    "                     learning_rate='constant', \n",
    "                     learning_rate_init=0.001, \n",
    "                     max_iter=1000, \n",
    "                     random_state=1, \n",
    "                     tol=0.0001,   # the tolerance criterion for the optimization algorithm\n",
    "                     verbose=False, \n",
    "                     momentum=0.9, \n",
    "                     early_stopping=True, \n",
    "                     validation_fraction=0.1, \n",
    "                     n_iter_no_change=10)"
   ]
  },
  {
   "cell_type": "markdown",
   "metadata": {},
   "source": [
    "We will only train networks with one layer in this example; if you want to add layers with a specific number of neurons you can just insert other values in the ` hidden_layer_size` argument; for example, to have two hidden layers with 5 and 4 neurons respectively, you can set: \n",
    "\n",
    "```python\n",
    "hidden_layer_size = (5, 4, )\n",
    "```\n",
    "\n",
    "Let's go back to our single-layer model, and train it: "
   ]
  },
  {
   "cell_type": "code",
   "execution_count": 10,
   "metadata": {},
   "outputs": [
    {
     "data": {
      "text/plain": [
       "MLPRegressor(activation='relu', alpha=0.001, batch_size=32, beta_1=0.9,\n",
       "             beta_2=0.999, early_stopping=True, epsilon=1e-08,\n",
       "             hidden_layer_sizes=(5,), learning_rate='constant',\n",
       "             learning_rate_init=0.001, max_fun=15000, max_iter=1000,\n",
       "             momentum=0.9, n_iter_no_change=10, nesterovs_momentum=True,\n",
       "             power_t=0.5, random_state=1, shuffle=True, solver='sgd',\n",
       "             tol=0.0001, validation_fraction=0.1, verbose=False,\n",
       "             warm_start=False)"
      ]
     },
     "execution_count": 10,
     "metadata": {},
     "output_type": "execute_result"
    }
   ],
   "source": [
    "model.fit(X_train_scaled, y_train)"
   ]
  },
  {
   "cell_type": "markdown",
   "metadata": {},
   "source": [
    "Let's check the model estimates first. The weights of the first hidden layers are:"
   ]
  },
  {
   "cell_type": "code",
   "execution_count": 11,
   "metadata": {
    "scrolled": true
   },
   "outputs": [
    {
     "data": {
      "text/plain": [
       "array([[-0.09603048,  0.22989646, -0.57706882, -1.58376335, -0.39085469],\n",
       "       [-0.47060502, -0.39892824, -0.17828496,  0.56280347,  0.0050342 ],\n",
       "       [-0.09726905, -0.04002049, -0.34118083,  0.37832569, -0.65892536],\n",
       "       [ 0.1906156 , -0.12020428,  0.06775164,  0.56555095, -0.35850449],\n",
       "       [ 0.34297502,  0.304535  , -0.21538345, -1.12516912,  0.47638559],\n",
       "       [ 0.44932352, -0.7900406 , -0.53211595,  3.13195256,  2.54304055],\n",
       "       [-0.46875472, -0.51633007,  0.52858846, -0.0676868 , -0.08141338],\n",
       "       [-0.21340524,  0.09357604,  0.38629245, -2.04612217, -0.4292811 ],\n",
       "       [ 0.5581062 ,  0.02982997, -0.25345583,  1.00644459, -0.34184823],\n",
       "       [-0.06583269,  0.19399651, -0.23825218, -0.8985927 , -0.84688964],\n",
       "       [-0.55987902, -0.17907106, -0.332897  , -1.10194343, -1.01758611],\n",
       "       [-0.52116395, -0.45212288, -0.40781714,  0.88484004,  0.07991964],\n",
       "       [-0.45965152, -0.27862171,  0.22441587, -3.59041253, -1.53614447]])"
      ]
     },
     "execution_count": 11,
     "metadata": {},
     "output_type": "execute_result"
    }
   ],
   "source": [
    "model.coefs_[0]    # shape = n. inputs x n. neurons"
   ]
  },
  {
   "cell_type": "markdown",
   "metadata": {},
   "source": [
    "While the weights of the output layers: "
   ]
  },
  {
   "cell_type": "code",
   "execution_count": 12,
   "metadata": {},
   "outputs": [
    {
     "data": {
      "text/plain": [
       "array([[ 0.80623153],\n",
       "       [-0.32857698],\n",
       "       [-0.7212606 ],\n",
       "       [ 5.63707697],\n",
       "       [ 3.17262482]])"
      ]
     },
     "execution_count": 12,
     "metadata": {},
     "output_type": "execute_result"
    }
   ],
   "source": [
    "model.coefs_[1]"
   ]
  },
  {
   "cell_type": "markdown",
   "metadata": {},
   "source": [
    "The intercepts of the hidden and output layer:"
   ]
  },
  {
   "cell_type": "code",
   "execution_count": 13,
   "metadata": {
    "scrolled": true
   },
   "outputs": [
    {
     "data": {
      "text/plain": [
       "[array([ 0.03527594, -0.42069774,  0.01719247,  3.41236003, -0.02724533]),\n",
       " array([2.64637129])]"
      ]
     },
     "execution_count": 13,
     "metadata": {},
     "output_type": "execute_result"
    }
   ],
   "source": [
    "model.intercepts_"
   ]
  },
  {
   "cell_type": "markdown",
   "metadata": {},
   "source": [
    "We can assess the convergence of the loss as follows: "
   ]
  },
  {
   "cell_type": "code",
   "execution_count": 14,
   "metadata": {
    "scrolled": true
   },
   "outputs": [
    {
     "data": {
      "image/png": "[encoded data removed]",
      "text/plain": [
       "<Figure size 360x216 with 1 Axes>"
      ]
     },
     "metadata": {
      "needs_background": "light"
     },
     "output_type": "display_data"
    }
   ],
   "source": [
    "plt.figure(figsize=(5,3))\n",
    "plt.plot(model.loss_curve_)\n",
    "plt.show()"
   ]
  },
  {
   "cell_type": "markdown",
   "metadata": {},
   "source": [
    "With `n_iter` you can check if and when early stopping terminated the computations: "
   ]
  },
  {
   "cell_type": "code",
   "execution_count": 15,
   "metadata": {
    "scrolled": true
   },
   "outputs": [
    {
     "data": {
      "text/plain": [
       "74"
      ]
     },
     "execution_count": 15,
     "metadata": {},
     "output_type": "execute_result"
    }
   ],
   "source": [
    "model.n_iter_"
   ]
  },
  {
   "cell_type": "markdown",
   "metadata": {},
   "source": [
    "With `loss_` we can obtain the value of the loss function:"
   ]
  },
  {
   "cell_type": "code",
   "execution_count": 16,
   "metadata": {},
   "outputs": [
    {
     "data": {
      "text/plain": [
       "10.246038492810406"
      ]
     },
     "execution_count": 16,
     "metadata": {},
     "output_type": "execute_result"
    }
   ],
   "source": [
    "model.loss_"
   ]
  },
  {
   "cell_type": "markdown",
   "metadata": {},
   "source": [
    "The model seems to have converged. Let's now assess model predictions and performance. Let's predict the value of the first five test units: "
   ]
  },
  {
   "cell_type": "code",
   "execution_count": 17,
   "metadata": {},
   "outputs": [
    {
     "data": {
      "text/plain": [
       "array([31.41147816, 26.80401856, 16.73545148, 21.00468812, 18.65367359])"
      ]
     },
     "execution_count": 17,
     "metadata": {},
     "output_type": "execute_result"
    }
   ],
   "source": [
    "y_pred = model.predict(X_test_scaled[:5])\n",
    "y_pred"
   ]
  },
  {
   "cell_type": "markdown",
   "metadata": {},
   "source": [
    "And, last, let's check the MSE on the test set: "
   ]
  },
  {
   "cell_type": "code",
   "execution_count": 18,
   "metadata": {},
   "outputs": [
    {
     "data": {
      "text/plain": [
       "15.045212757099515"
      ]
     },
     "execution_count": 18,
     "metadata": {},
     "output_type": "execute_result"
    }
   ],
   "source": [
    "from sklearn.metrics import mean_squared_error\n",
    "mean_squared_error(model.predict(X_test_scaled), y_test)"
   ]
  },
  {
   "cell_type": "markdown",
   "metadata": {},
   "source": [
    "## 2. Classification\n",
    "### 2.1 Binary Classification\n",
    "For the binary classification case, we use the \"circles\" dataset already encountered with kernel SVM's. Let's load it and view it again: "
   ]
  },
  {
   "cell_type": "code",
   "execution_count": 19,
   "metadata": {},
   "outputs": [
    {
     "data": {
      "image/png": "[encoded data removed]",
      "text/plain": [
       "<Figure size 360x360 with 1 Axes>"
      ]
     },
     "metadata": {
      "needs_background": "light"
     },
     "output_type": "display_data"
    }
   ],
   "source": [
    "from sklearn.preprocessing import StandardScaler\n",
    "data_lin_sep_svm = pd.read_csv(\"./data/neural_networks/circles.csv\")\n",
    "X = data_lin_sep_svm.iloc[:,:2]\n",
    "y = data_lin_sep_svm[\"y\"]\n",
    "X_train, X_test, y_train, y_test = train_test_split(X, y, stratify=y, test_size=0.2, random_state=1)\n",
    "sc = StandardScaler()\n",
    "X_train_scaled = sc.fit_transform(X_train)\n",
    "X_test_scaled = sc.transform(X_test)\n",
    "\n",
    "plt.figure(figsize=(5,5))\n",
    "plt.plot(X_train_scaled[y_train==0,0], X_train_scaled[y_train==0,1], \"bo\", label=\"Class 0\")\n",
    "plt.plot(X_train_scaled[y_train==1,0], X_train_scaled[y_train==1,1], \"ro\", label=\"Class 1\")\n",
    "plt.xlabel(\"x1\")\n",
    "plt.ylabel(\"x2\")\n",
    "plt.legend()\n",
    "plt.show()"
   ]
  },
  {
   "cell_type": "markdown",
   "metadata": {},
   "source": [
    "**Setting Up the network**. Let's review the ingredients of a Neural Network for binary classification: \n",
    "* a single output layer \n",
    "* cross-entropy for binary classification\n",
    "* sigmoid activation function for the output layer\n",
    "\n",
    "Since the classification taks is highly non-linear in this case, we use as an example a network with one hidden layer,  containing 15 neurons (and ReLU activation function). The other characteristics of the network we are going to build are the following ones: \n",
    "* ReLU activation function for the hidden layer (`activation='relu'`)\n",
    "* early stopping (`early_stopping=True` with max. 100 iterations without improvement on the validation set)\n",
    "* a maximum number of 2000 epochs (`max_iter=2000`)\n",
    "* SGD (`solver='sgd'`) with momentum optimizer with:\n",
    "    * batch size = 10 (`batch_size=64`) \n",
    "    * starting learning rate = 0.5 (`learning_rate_init=0.5`) with power scheduling (`learning_rate=invscaling` and `power_t=0.5`)\n",
    "    * momentum = 0.9 (`momentum=0.9`)\n",
    "* no $l_2$ penalty (`alpha=0`)\n",
    "\n",
    "As done in the regression example, we set `validation_fraction=0.1` to evaluate early stopping, and `random_state=1` for reproducibility. Last, note that MLPClassifier [uses the cross-entropy](https://scikit-learn.org/stable/modules/neural_networks_supervised.html#classification) as a loss function, and it automatically sets the `sigmoid` as the activation of the output layer. "
   ]
  },
  {
   "cell_type": "code",
   "execution_count": 20,
   "metadata": {},
   "outputs": [],
   "source": [
    "from sklearn.neural_network import MLPClassifier\n",
    "model = MLPClassifier(hidden_layer_sizes=(15, ), \n",
    "                     activation='relu', \n",
    "                     solver='sgd', \n",
    "                     alpha=0, \n",
    "                     batch_size=64, \n",
    "                     learning_rate='invscaling', \n",
    "                     learning_rate_init=0.5,\n",
    "                     power_t=0.5,                      \n",
    "                     max_iter=2000, \n",
    "                     random_state=1, \n",
    "                     tol=0.0001,   # the tolerance criterion for the optimization algorithm\n",
    "                     verbose=False, \n",
    "                     momentum=0.9, \n",
    "                     early_stopping=True, \n",
    "                     validation_fraction=0.1, \n",
    "                     n_iter_no_change=500)"
   ]
  },
  {
   "cell_type": "markdown",
   "metadata": {},
   "source": [
    "Let's now perform training: "
   ]
  },
  {
   "cell_type": "code",
   "execution_count": 21,
   "metadata": {},
   "outputs": [
    {
     "data": {
      "text/plain": [
       "MLPClassifier(activation='relu', alpha=0, batch_size=64, beta_1=0.9,\n",
       "              beta_2=0.999, early_stopping=True, epsilon=1e-08,\n",
       "              hidden_layer_sizes=(15,), learning_rate='invscaling',\n",
       "              learning_rate_init=0.5, max_fun=15000, max_iter=2000,\n",
       "              momentum=0.9, n_iter_no_change=500, nesterovs_momentum=True,\n",
       "              power_t=0.5, random_state=1, shuffle=True, solver='sgd',\n",
       "              tol=0.0001, validation_fraction=0.1, verbose=False,\n",
       "              warm_start=False)"
      ]
     },
     "execution_count": 21,
     "metadata": {},
     "output_type": "execute_result"
    }
   ],
   "source": [
    "model.fit(X_train_scaled, y_train)"
   ]
  },
  {
   "cell_type": "code",
   "execution_count": 22,
   "metadata": {},
   "outputs": [
    {
     "data": {
      "image/png": "[encoded data removed]",
      "text/plain": [
       "<Figure size 360x216 with 1 Axes>"
      ]
     },
     "metadata": {
      "needs_background": "light"
     },
     "output_type": "display_data"
    }
   ],
   "source": [
    "plt.figure(figsize=(5,3))\n",
    "plt.plot(model.loss_curve_)\n",
    "plt.show()"
   ]
  },
  {
   "cell_type": "markdown",
   "metadata": {},
   "source": [
    "SGD has used early stopping to terminate:"
   ]
  },
  {
   "cell_type": "code",
   "execution_count": 23,
   "metadata": {
    "scrolled": true
   },
   "outputs": [
    {
     "data": {
      "text/plain": [
       "587"
      ]
     },
     "execution_count": 23,
     "metadata": {},
     "output_type": "execute_result"
    }
   ],
   "source": [
    "model.n_iter_"
   ]
  },
  {
   "cell_type": "markdown",
   "metadata": {},
   "source": [
    "The predicted probabilities of the first five test units: "
   ]
  },
  {
   "cell_type": "code",
   "execution_count": 24,
   "metadata": {},
   "outputs": [
    {
     "data": {
      "text/plain": [
       "array([[0.69870168, 0.30129832],\n",
       "       [0.30290545, 0.69709455],\n",
       "       [0.88417554, 0.11582446],\n",
       "       [0.36950992, 0.63049008],\n",
       "       [0.21821887, 0.78178113]])"
      ]
     },
     "execution_count": 24,
     "metadata": {},
     "output_type": "execute_result"
    }
   ],
   "source": [
    "model.predict_proba(X_test_scaled[:5])"
   ]
  },
  {
   "cell_type": "markdown",
   "metadata": {},
   "source": [
    "And their predicted classes:"
   ]
  },
  {
   "cell_type": "code",
   "execution_count": 25,
   "metadata": {},
   "outputs": [
    {
     "data": {
      "text/plain": [
       "array([0, 1, 0, 1, 1], dtype=int64)"
      ]
     },
     "execution_count": 25,
     "metadata": {},
     "output_type": "execute_result"
    }
   ],
   "source": [
    "model.predict(X_test_scaled[:5])"
   ]
  },
  {
   "cell_type": "code",
   "execution_count": 26,
   "metadata": {},
   "outputs": [
    {
     "data": {
      "text/plain": [
       "1.0"
      ]
     },
     "execution_count": 26,
     "metadata": {},
     "output_type": "execute_result"
    }
   ],
   "source": [
    "model.score(X_test_scaled, y_test)"
   ]
  },
  {
   "cell_type": "markdown",
   "metadata": {},
   "source": [
    "Last, let's check plot the model decision boundary: "
   ]
  },
  {
   "cell_type": "code",
   "execution_count": 27,
   "metadata": {},
   "outputs": [
    {
     "data": {
      "image/png": "[encoded data removed]",
      "text/plain": [
       "<Figure size 360x360 with 1 Axes>"
      ]
     },
     "metadata": {
      "needs_background": "light"
     },
     "output_type": "display_data"
    }
   ],
   "source": [
    "xx, yy = np.meshgrid(np.arange(X_train_scaled[:,0].min(), X_train_scaled[:,0].max(), 0.1),\n",
    "                     np.arange(X_train_scaled[:,1].min(), X_train_scaled[:,1].max(), 0.1))\n",
    "zz = model.predict(np.c_[xx.ravel(),yy.ravel()]).reshape(xx.shape)\n",
    "\n",
    "\n",
    "plt.figure(figsize=(5,5))\n",
    "contour = plt.contour(xx, yy, zz, levels=1, alpha=1., vmin=0, vmax=1, linewidths=2, colors='k', linestyles='-')\n",
    "plt.plot(X_train_scaled[y_train==0,0], X_train_scaled[y_train==0,1], \"bo\", label=\"Class 0\")\n",
    "plt.plot(X_train_scaled[y_train==1,0], X_train_scaled[y_train==1,1], \"ro\", label=\"Class 1\")\n",
    "plt.xlabel(\"x1\")\n",
    "plt.ylabel(\"x2\")\n",
    "plt.ylim(-3,3)\n",
    "plt.xlim(-3,3)\n",
    "plt.legend(loc=3,  frameon=False)\n",
    "plt.show()"
   ]
  },
  {
   "cell_type": "markdown",
   "metadata": {},
   "source": [
    "### 2.2 Multiclass Classification\n",
    "For the multiclass case, we see an example with the *iris dataset*. Unlike what done with other algorithms, however, this time we will use the dataset with all 4 original features. "
   ]
  },
  {
   "cell_type": "code",
   "execution_count": 28,
   "metadata": {},
   "outputs": [],
   "source": [
    "from sklearn.datasets import load_iris \n",
    "X, y = load_iris(return_X_y=True)"
   ]
  },
  {
   "cell_type": "markdown",
   "metadata": {},
   "source": [
    "scikit-learn takes care internally (before training) of the encoding of the target variable, and so we don't need to perform one-hot encoding manually."
   ]
  },
  {
   "cell_type": "markdown",
   "metadata": {},
   "source": [
    "Let's now split the train/test set and standardize the features:"
   ]
  },
  {
   "cell_type": "code",
   "execution_count": 29,
   "metadata": {},
   "outputs": [],
   "source": [
    "X_train, X_test, y_train, y_test = train_test_split(X, y, stratify=y, test_size=0.1, random_state=1)\n",
    "sc = StandardScaler()\n",
    "X_train_scaled = sc.fit_transform(X_train)\n",
    "X_test_scaled = sc.transform(X_test)"
   ]
  },
  {
   "cell_type": "markdown",
   "metadata": {},
   "source": [
    "**The network**. In the multiclass case, a typical FNN has the following architecture: \n",
    "* as many output layers as there are classes (3 in this case)\n",
    "* cross-entropy loss \n",
    "* softmax activation function for the output layer\n",
    "\n",
    "We are going to create a netwrk with the following characteristics: \n",
    "* sigmoid activation function for the hidden layer (`activation='logistic'`)\n",
    "* early stopping (`early_stopping=True` with max. 1000 iterations without improvement on the validation set)\n",
    "* a maximum number of 2000 epochs (`max_iter=2000`)\n",
    "* ADAM (`solver='adam'`) with:\n",
    "    * batch size = 15 (`batch_size=15`) \n",
    "    * starting learning rate = 0.001 (`learning_rate_init=0.001`) \n",
    "    * decay of first moment = 0.9 (`beta_1=0.9`)\n",
    "    * decay of second moment = 0.999 (`beta_2=0.999`)\n",
    "    * numerical stability parameter = 1e-8 (epsilon=1e-8)\n",
    "* $l_2$ penalty (`alpha=0.001`)\n",
    "\n",
    "As usualy, we set `validation_fraction=0.1` to evaluate early stopping, and `random_state=1` for reproducibility. MLPClassifier  automatically sets the `softmax` as the activation of the output layer in the multi-class case."
   ]
  },
  {
   "cell_type": "code",
   "execution_count": 30,
   "metadata": {},
   "outputs": [],
   "source": [
    "model = MLPClassifier(hidden_layer_sizes=(15, ), \n",
    "                     activation='logistic', \n",
    "                     solver='adam',\n",
    "                     beta_1=0.9, \n",
    "                     beta_2=0.999,\n",
    "                     epsilon=1e-8,\n",
    "                     alpha=0.0001, \n",
    "                     batch_size=15, \n",
    "                     learning_rate_init=0.001,                  \n",
    "                     max_iter=2000, \n",
    "                     random_state=1, \n",
    "                     tol=0.001,   # the tolerance criterion for the optimization algorithm\n",
    "                     verbose=False, \n",
    "                     early_stopping=True, \n",
    "                     validation_fraction=0.1, \n",
    "                     n_iter_no_change=1000)"
   ]
  },
  {
   "cell_type": "markdown",
   "metadata": {},
   "source": [
    "Let's now train the model: "
   ]
  },
  {
   "cell_type": "code",
   "execution_count": 31,
   "metadata": {},
   "outputs": [
    {
     "data": {
      "text/plain": [
       "MLPClassifier(activation='logistic', alpha=0.0001, batch_size=15, beta_1=0.9,\n",
       "              beta_2=0.999, early_stopping=True, epsilon=1e-08,\n",
       "              hidden_layer_sizes=(15,), learning_rate='constant',\n",
       "              learning_rate_init=0.001, max_fun=15000, max_iter=2000,\n",
       "              momentum=0.9, n_iter_no_change=1000, nesterovs_momentum=True,\n",
       "              power_t=0.5, random_state=1, shuffle=True, solver='adam',\n",
       "              tol=0.001, validation_fraction=0.1, verbose=False,\n",
       "              warm_start=False)"
      ]
     },
     "execution_count": 31,
     "metadata": {},
     "output_type": "execute_result"
    }
   ],
   "source": [
    "model.fit(X_train_scaled, y_train)"
   ]
  },
  {
   "cell_type": "code",
   "execution_count": 32,
   "metadata": {},
   "outputs": [
    {
     "data": {
      "image/png": "[encoded data removed]",
      "text/plain": [
       "<Figure size 360x216 with 1 Axes>"
      ]
     },
     "metadata": {
      "needs_background": "light"
     },
     "output_type": "display_data"
    }
   ],
   "source": [
    "plt.figure(figsize=(5,3))\n",
    "plt.plot(model.loss_curve_)\n",
    "plt.show()"
   ]
  },
  {
   "cell_type": "markdown",
   "metadata": {},
   "source": [
    "The algorithm seems to have converged. Let's assess the predictions of the first ten test units:"
   ]
  },
  {
   "cell_type": "code",
   "execution_count": 33,
   "metadata": {},
   "outputs": [
    {
     "data": {
      "text/plain": [
       "array([[1.06137653e-02, 8.94082281e-01, 9.53039541e-02],\n",
       "       [1.24957860e-01, 8.68238360e-01, 6.80377961e-03],\n",
       "       [1.94671713e-03, 5.38950228e-01, 4.59103055e-01],\n",
       "       [9.74173103e-01, 2.57784764e-02, 4.84202629e-05],\n",
       "       [8.55910563e-03, 9.45845784e-01, 4.55951101e-02],\n",
       "       [9.43189855e-01, 5.67566377e-02, 5.35070347e-05],\n",
       "       [9.69202130e-01, 3.07095639e-02, 8.83060499e-05],\n",
       "       [5.55676110e-04, 1.24505831e-01, 8.74938493e-01],\n",
       "       [2.33373492e-02, 4.80090611e-01, 4.96572040e-01],\n",
       "       [2.14974750e-03, 1.47385879e-01, 8.50464373e-01]])"
      ]
     },
     "execution_count": 33,
     "metadata": {},
     "output_type": "execute_result"
    }
   ],
   "source": [
    "# Probabilities\n",
    "model.predict_proba(X_test_scaled[:10])"
   ]
  },
  {
   "cell_type": "code",
   "execution_count": 34,
   "metadata": {},
   "outputs": [
    {
     "data": {
      "text/plain": [
       "array([1, 1, 1, 0, 1, 0, 0, 2, 2, 2])"
      ]
     },
     "execution_count": 34,
     "metadata": {},
     "output_type": "execute_result"
    }
   ],
   "source": [
    "# Predicted Classes\n",
    "model.predict(X_test_scaled[:10])"
   ]
  },
  {
   "cell_type": "markdown",
   "metadata": {},
   "source": [
    "Test set accuracy:"
   ]
  },
  {
   "cell_type": "code",
   "execution_count": 35,
   "metadata": {},
   "outputs": [
    {
     "data": {
      "text/plain": [
       "0.8"
      ]
     },
     "execution_count": 35,
     "metadata": {},
     "output_type": "execute_result"
    }
   ],
   "source": [
    "model.score(X_test_scaled, y_test)"
   ]
  },
  {
   "cell_type": "markdown",
   "metadata": {},
   "source": [
    "## 3. Cross-Validation with the Heart Dataset"
   ]
  },
  {
   "cell_type": "markdown",
   "metadata": {},
   "source": [
    "We are now going to perform tuning with cross-validation using the Heart data. Let's first load the dataset:"
   ]
  },
  {
   "cell_type": "code",
   "execution_count": 36,
   "metadata": {},
   "outputs": [],
   "source": [
    "data_train = pd.read_csv(\"./data/heart_data/heart_train_processed.csv\")\n",
    "data_test = pd.read_csv(\"./data/heart_data/heart_test_processed.csv\")\n",
    "X_train = data_train.drop(\"y\", axis=1)\n",
    "X_test = data_test.drop(\"y\", axis=1)\n",
    "y_train = data_train[\"y\"]\n",
    "y_test = data_test[\"y\"]"
   ]
  },
  {
   "cell_type": "markdown",
   "metadata": {},
   "source": [
    "Given the large number of hyperparameters that need to be optimized, we will use random search, rather than Grid Search (which is nonetheless still possible, if you prefer manually specify a grid of value). As it is highly unlikely to find the best setting for a Neural Network with just grid/randomized search methods, a good tip would be to use these methodologies to find a good initial setting for (some of) the hyperparameters, and then manually refine these (and other) hyperparameter values, with a validation set. Moreover, for large datasets tuning a Neural Network with cross-validation is not recommended given the large computational costs involved in this operation. \n",
    "\n",
    "The ranodmized tuning will occur on a single-layer network (remember: networks with a single layers are universal approximators, as long as they have a sufficiently large enough number of neurons), and the hyperparameters will be tuned as follows: \n",
    "* we will choose between 1 and 20 neurons in the hidden layer from a uniform distribution in this range\n",
    "* we will use a [reciprocal distribution](https://en.wikipedia.org/wiki/Reciprocal_distribution) for the learning rate of SGD; this distribution will range between 1e-4 and 0.99, giving larger probabilities to smaller values\n",
    "* we will search how many optimal iterations to wait before stopping the algorithm (between 50, 100, 500, 1000, and 2000)\n",
    "* we will choose between SGD and ADAM optimizer\n",
    "\n",
    "The search will occur across 10 iterations (of course, in more intensive analyses you should increase such number). Let's initialize the random grid: "
   ]
  },
  {
   "cell_type": "code",
   "execution_count": 37,
   "metadata": {},
   "outputs": [],
   "source": [
    "from scipy.stats import reciprocal    # Reciprocal distribution in scipy.stats\n",
    "from sklearn.model_selection import RandomizedSearchCV\n",
    "param_distribs = {\n",
    "    \"hidden_layer_sizes\": [i for i in range(1, 20)],\n",
    "    \"learning_rate_init\": reciprocal(1e-4, 9e-1),\n",
    "    \"n_iter_no_change\": [50, 100, 500, 1000, 2000],\n",
    "    \"solver\" : [\"sgd\", \"adam\"]\n",
    "}"
   ]
  },
  {
   "cell_type": "markdown",
   "metadata": {},
   "source": [
    "Now we are ready to perform cross-validation (we will use 3-fold CV; the maximum number of epochs for the neural network is set equal to 10000): "
   ]
  },
  {
   "cell_type": "code",
   "execution_count": 38,
   "metadata": {
    "scrolled": true
   },
   "outputs": [
    {
     "name": "stdout",
     "output_type": "stream",
     "text": [
      "Fitting 3 folds for each of 10 candidates, totalling 30 fits\n"
     ]
    },
    {
     "name": "stderr",
     "output_type": "stream",
     "text": [
      "[Parallel(n_jobs=-1)]: Using backend LokyBackend with 2 concurrent workers.\n",
      "[Parallel(n_jobs=-1)]: Done  30 out of  30 | elapsed:   16.9s finished\n",
      "c:\\users\\u1253415\\appdata\\local\\programs\\python\\python38-32\\lib\\site-packages\\sklearn\\model_selection\\_search.py:823: FutureWarning: The parameter 'iid' is deprecated in 0.22 and will be removed in 0.24.\n",
      "  warnings.warn(\n"
     ]
    },
    {
     "data": {
      "text/plain": [
       "RandomizedSearchCV(cv=3, error_score=nan,\n",
       "                   estimator=MLPClassifier(activation='relu', alpha=0.0001,\n",
       "                                           batch_size='auto', beta_1=0.9,\n",
       "                                           beta_2=0.999, early_stopping=False,\n",
       "                                           epsilon=1e-08,\n",
       "                                           hidden_layer_sizes=(100,),\n",
       "                                           learning_rate='constant',\n",
       "                                           learning_rate_init=0.001,\n",
       "                                           max_fun=15000, max_iter=10000,\n",
       "                                           momentum=0.9, n_iter_no_change=10,\n",
       "                                           nesterovs_momentum=True, power_t=0.5,\n",
       "                                           rand...\n",
       "                   iid=False, n_iter=10, n_jobs=-1,\n",
       "                   param_distributions={'hidden_layer_sizes': [1, 2, 3, 4, 5, 6,\n",
       "                                                               7, 8, 9, 10, 11,\n",
       "                                                               12, 13, 14, 15,\n",
       "                                                               16, 17, 18, 19],\n",
       "                                        'learning_rate_init': <scipy.stats._distn_infrastructure.rv_frozen object at 0x0F2BCEC8>,\n",
       "                                        'n_iter_no_change': [50, 100, 500, 1000,\n",
       "                                                             2000],\n",
       "                                        'solver': ['sgd', 'adam']},\n",
       "                   pre_dispatch='2*n_jobs', random_state=1, refit=True,\n",
       "                   return_train_score=False, scoring=None, verbose=1)"
      ]
     },
     "execution_count": 38,
     "metadata": {},
     "output_type": "execute_result"
    }
   ],
   "source": [
    "rnd_search_cv = RandomizedSearchCV(MLPClassifier(max_iter=int(1e+4), random_state=1), \n",
    "                                   param_distribs, n_iter=10, cv=3, n_jobs=-1, iid=False, random_state=1, \n",
    "                                  verbose=1)\n",
    "rnd_search_cv.fit(X_train, y_train)"
   ]
  },
  {
   "cell_type": "markdown",
   "metadata": {},
   "source": [
    "The best set of hyperparameters was: "
   ]
  },
  {
   "cell_type": "code",
   "execution_count": 39,
   "metadata": {},
   "outputs": [
    {
     "data": {
      "text/plain": [
       "{'hidden_layer_sizes': 10,\n",
       " 'learning_rate_init': 0.0015685425729289283,\n",
       " 'n_iter_no_change': 50,\n",
       " 'solver': 'sgd'}"
      ]
     },
     "execution_count": 39,
     "metadata": {},
     "output_type": "execute_result"
    }
   ],
   "source": [
    "rnd_search_cv.best_params_"
   ]
  },
  {
   "cell_type": "markdown",
   "metadata": {},
   "source": [
    "The CV accuracy:"
   ]
  },
  {
   "cell_type": "code",
   "execution_count": 40,
   "metadata": {},
   "outputs": [
    {
     "data": {
      "text/plain": [
       "0.8429526748971193"
      ]
     },
     "execution_count": 40,
     "metadata": {},
     "output_type": "execute_result"
    }
   ],
   "source": [
    "rnd_search_cv.best_score_"
   ]
  },
  {
   "cell_type": "markdown",
   "metadata": {},
   "source": [
    "And the accuracy of the best model on the test set:"
   ]
  },
  {
   "cell_type": "code",
   "execution_count": 41,
   "metadata": {},
   "outputs": [
    {
     "data": {
      "text/plain": [
       "0.8360655737704918"
      ]
     },
     "execution_count": 41,
     "metadata": {},
     "output_type": "execute_result"
    }
   ],
   "source": [
    "rnd_search_cv.score(X_test, y_test)"
   ]
  },
  {
   "cell_type": "markdown",
   "metadata": {},
   "source": [
    "Last, you can store the best model in a separate object, with the `best_estimator_.model` attribute:"
   ]
  },
  {
   "cell_type": "code",
   "execution_count": 42,
   "metadata": {},
   "outputs": [
    {
     "data": {
      "text/plain": [
       "MLPClassifier(activation='relu', alpha=0.0001, batch_size='auto', beta_1=0.9,\n",
       "              beta_2=0.999, early_stopping=False, epsilon=1e-08,\n",
       "              hidden_layer_sizes=10, learning_rate='constant',\n",
       "              learning_rate_init=0.0015685425729289283, max_fun=15000,\n",
       "              max_iter=10000, momentum=0.9, n_iter_no_change=50,\n",
       "              nesterovs_momentum=True, power_t=0.5, random_state=1,\n",
       "              shuffle=True, solver='sgd', tol=0.0001, validation_fraction=0.1,\n",
       "              verbose=False, warm_start=False)"
      ]
     },
     "execution_count": 42,
     "metadata": {},
     "output_type": "execute_result"
    }
   ],
   "source": [
    "model = rnd_search_cv.best_estimator_\n",
    "model"
   ]
  }
 ],
 "metadata": {
  "kernelspec": {
   "display_name": "Python 3",
   "language": "python",
   "name": "python3"
  },
  "language_info": {
   "codemirror_mode": {
    "name": "ipython",
    "version": 3
   },
   "file_extension": ".py",
   "mimetype": "text/x-python",
   "name": "python",
   "nbconvert_exporter": "python",
   "pygments_lexer": "ipython3",
   "version": "3.8.0"
  }
 },
 "nbformat": 4,
 "nbformat_minor": 2
}
