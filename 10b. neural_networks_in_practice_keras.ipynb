{
 "cells": [
  {
   "cell_type": "code",
   "execution_count": 1,
   "metadata": {
    "scrolled": false
   },
   "outputs": [
    {
     "name": "stderr",
     "output_type": "stream",
     "text": [
      "Using TensorFlow backend.\n"
     ]
    }
   ],
   "source": [
    "import pandas as pd \n",
    "import numpy as np\n",
    "%matplotlib inline\n",
    "import matplotlib.pyplot as plt \n",
    "import keras\n",
    "np.random.seed(1)   "
   ]
  },
  {
   "cell_type": "markdown",
   "metadata": {},
   "source": [
    "=================================================================================================================\n",
    "# Neural Networks in Practice: Keras\n",
    "\n",
    "\n",
    "##### D.Vidotto, Data Mining: JBI030 2019/2020\n",
    "\n",
    "\n",
    "=================================================================================================================\n",
    "\n",
    "\n",
    "In this notebook, we are going to see how to setup and train Feedforward Neural Networks with the [Keras](https://keras.io/) deep learning library. Keras has two possible backends,  [Tensorflow](https://www.tensorflow.org/) and [Theano](http://deeplearning.net/software/theano/).  For this notebook we will use the Tensorflow version, and therefore Tensorflow is also required to run the code in the notebook. As of now (February 2020) Tensorflow is not supported in Python 3.8 (although a new release supported by Python 3.8 is expected in March 2020). Therefore, in order to run the code in the notebook you need to use Python 3.7 or earlier version. \n",
    "\n",
    "scikit-learn also supports methods for Neural Networks; examples of code with scikit-learn can be found in the notebook \"Neural Networkds in Practice: scikit-learn\". \n",
    "\n",
    "Here, we are going to set up Neural Networks for the following topics:\n",
    "\n",
    "1. Regression \n",
    "1. Classification\n",
    "  * Binary Classification\n",
    "  * Multiclass Classification\n",
    "1. Interfacing Keras with scikit-learn for network tuning\n",
    "\n",
    "This notebook is used with the following versions of Python and Keras (and Tensorflow 2.1.0): "
   ]
  },
  {
   "cell_type": "code",
   "execution_count": 2,
   "metadata": {},
   "outputs": [
    {
     "name": "stdout",
     "output_type": "stream",
     "text": [
      "3.7.4\n"
     ]
    }
   ],
   "source": [
    "# Python version\n",
    "import platform; print(platform.python_version())"
   ]
  },
  {
   "cell_type": "code",
   "execution_count": 3,
   "metadata": {
    "scrolled": true
   },
   "outputs": [
    {
     "name": "stdout",
     "output_type": "stream",
     "text": [
      "2.3.1\n"
     ]
    }
   ],
   "source": [
    "# Keras version\n",
    "print(keras.__version__)"
   ]
  },
  {
   "cell_type": "markdown",
   "metadata": {},
   "source": [
    "## 1. Regression\n",
    "For the regression example, we will use the [Boston Houses dataset](https://scikit-learn.org/stable/modules/generated/sklearn.datasets.load_boston.html). The data contains information collected by the U.S Census Service concerning housing in Boston; the sample size is 506, and there are 13 features. The target variable is the median value of houses in different areas of Boston. More information about the dataset can be found [here](https://www.cs.toronto.edu/~delve/data/boston/bostonDetail.html).\n",
    "\n",
    "Let's load the data: "
   ]
  },
  {
   "cell_type": "code",
   "execution_count": 4,
   "metadata": {},
   "outputs": [
    {
     "data": {
      "text/plain": [
       "dict_keys(['data', 'target', 'feature_names', 'DESCR', 'filename'])"
      ]
     },
     "execution_count": 4,
     "metadata": {},
     "output_type": "execute_result"
    }
   ],
   "source": [
    "from sklearn.datasets import load_boston\n",
    "bunch_data = load_boston()\n",
    "bunch_data.keys()"
   ]
  },
  {
   "cell_type": "code",
   "execution_count": 5,
   "metadata": {},
   "outputs": [
    {
     "data": {
      "text/plain": [
       "array(['CRIM', 'ZN', 'INDUS', 'CHAS', 'NOX', 'RM', 'AGE', 'DIS', 'RAD',\n",
       "       'TAX', 'PTRATIO', 'B', 'LSTAT'], dtype='<U7')"
      ]
     },
     "execution_count": 5,
     "metadata": {},
     "output_type": "execute_result"
    }
   ],
   "source": [
    "# Feature names \n",
    "bunch_data.feature_names"
   ]
  },
  {
   "cell_type": "code",
   "execution_count": 6,
   "metadata": {},
   "outputs": [
    {
     "data": {
      "text/plain": [
       "(506, 13)"
      ]
     },
     "execution_count": 6,
     "metadata": {},
     "output_type": "execute_result"
    }
   ],
   "source": [
    "X, y = bunch_data.data, bunch_data.target\n",
    "X.shape"
   ]
  },
  {
   "cell_type": "markdown",
   "metadata": {},
   "source": [
    "**Some preprocessing**..."
   ]
  },
  {
   "cell_type": "code",
   "execution_count": 7,
   "metadata": {},
   "outputs": [],
   "source": [
    "# Train-test split (separate 10% of the data for the test set)\n",
    "from sklearn.model_selection import train_test_split\n",
    "X_trainvalid, X_test, y_trainvalid, y_test = train_test_split(X, y, test_size=0.1, random_state=1)"
   ]
  },
  {
   "cell_type": "code",
   "execution_count": 8,
   "metadata": {},
   "outputs": [],
   "source": [
    "# Another split for the validation set (10% of the new dataset)\n",
    "X_train, X_valid, y_train, y_valid = train_test_split(X_trainvalid, y_trainvalid, test_size=0.1, random_state=1)"
   ]
  },
  {
   "cell_type": "code",
   "execution_count": 9,
   "metadata": {},
   "outputs": [
    {
     "data": {
      "text/plain": [
       "array([[5.44520e-01, 0.00000e+00, 2.18900e+01, 0.00000e+00, 6.24000e-01,\n",
       "        6.15100e+00, 9.79000e+01, 1.66870e+00, 4.00000e+00, 4.37000e+02,\n",
       "        2.12000e+01, 3.96900e+02, 1.84600e+01],\n",
       "       [1.05393e+00, 0.00000e+00, 8.14000e+00, 0.00000e+00, 5.38000e-01,\n",
       "        5.93500e+00, 2.93000e+01, 4.49860e+00, 4.00000e+00, 3.07000e+02,\n",
       "        2.10000e+01, 3.86850e+02, 6.58000e+00],\n",
       "       [7.85700e-01, 2.00000e+01, 3.97000e+00, 0.00000e+00, 6.47000e-01,\n",
       "        7.01400e+00, 8.46000e+01, 2.13290e+00, 5.00000e+00, 2.64000e+02,\n",
       "        1.30000e+01, 3.84070e+02, 1.47900e+01],\n",
       "       [3.25430e-01, 0.00000e+00, 2.18900e+01, 0.00000e+00, 6.24000e-01,\n",
       "        6.43100e+00, 9.88000e+01, 1.81250e+00, 4.00000e+00, 4.37000e+02,\n",
       "        2.12000e+01, 3.96900e+02, 1.53900e+01],\n",
       "       [1.20742e+00, 0.00000e+00, 1.95800e+01, 0.00000e+00, 6.05000e-01,\n",
       "        5.87500e+00, 9.46000e+01, 2.42590e+00, 5.00000e+00, 4.03000e+02,\n",
       "        1.47000e+01, 2.92290e+02, 1.44300e+01]])"
      ]
     },
     "execution_count": 9,
     "metadata": {},
     "output_type": "execute_result"
    }
   ],
   "source": [
    "X_train[:5]"
   ]
  },
  {
   "cell_type": "code",
   "execution_count": 10,
   "metadata": {
    "scrolled": true
   },
   "outputs": [
    {
     "data": {
      "image/png": "[encoded data removed]",
      "text/plain": [
       "<Figure size 360x360 with 1 Axes>"
      ]
     },
     "metadata": {
      "needs_background": "light"
     },
     "output_type": "display_data"
    }
   ],
   "source": [
    "# Histogram of the target\n",
    "plt.figure(figsize=(5,5))\n",
    "plt.hist(y_train)\n",
    "plt.show()"
   ]
  },
  {
   "cell_type": "code",
   "execution_count": 11,
   "metadata": {},
   "outputs": [],
   "source": [
    "# Rescale data with min-max scaler\n",
    "from sklearn.preprocessing import MinMaxScaler\n",
    "mms = MinMaxScaler()\n",
    "X_train_scaled = mms.fit_transform(X_train)\n",
    "X_valid_scaled = mms.transform(X_valid)\n",
    "X_test_scaled =mms.transform(X_test)"
   ]
  },
  {
   "cell_type": "markdown",
   "metadata": {},
   "source": [
    "**Setting the Regression FNN**. We are now going to use Keras to set up a Regression NN. Let's review the components of a Regression network: \n",
    "* the input layer contains as many neurons as the number of features\n",
    "* as we are predicting just one continuous output, we can set up the network with one output layer\n",
    "* the loss function is the mean squared error \n",
    "* no activation function is used for the output layer\n",
    "\n",
    "In Keras, you build the network with the `models.Sequential()` function, which takes as input the layers you want to include in the network. In turn, these layers are declared sequentially, with the `layers.Dense` function. Here, we are going to create a simple network with one hidden layer containing 5 hidden neurons and one output layer. The first hidden layer will be given the ReLU activation function, and it also needs the number of neurons of the input layer:   "
   ]
  },
  {
   "cell_type": "code",
   "execution_count": 12,
   "metadata": {
    "scrolled": true
   },
   "outputs": [],
   "source": [
    "model = keras.models.Sequential([\n",
    "    keras.layers.Dense(5, activation='relu', input_shape=X_train.shape[1:]), \n",
    "    keras.layers.Dense(1)\n",
    "])"
   ]
  },
  {
   "cell_type": "markdown",
   "metadata": {},
   "source": [
    "The last layer is the output layer; it doesn't specify any activation function, and it is indeed composed of just 1 neuron in this example. Moreover, besides the ReLU function you can choose other activations from the Keras library. [Here](https://keras.io/activations/) you can find a list of activation function available in Keras. \n",
    "\n",
    "An alternative, equivalent way to specify the network just created is the following one: \n",
    "\n",
    "```python\n",
    "model = keras.models.Sequential()\n",
    "model.add(keras.layers.Dense(5, activation='relu', input_shape=X_train.shape[1:]))\n",
    "model.add(keras.layers.Dense(1))\n",
    "```\n",
    "\n",
    "We will only train networks with one layer in this example; if you want to add layers you can do as follows (here we add a second hidden layer with 4 neurons and ReLU activation): \n",
    "\n",
    "```python\n",
    "model = keras.models.Sequential([\n",
    "    keras.layers.Dense(5, activation='relu', input_shape=X_train.shape[1:]), \n",
    "    keras.layers.Dense(4, activation='relu'),\n",
    "    keras.layers.Dense(1)\n",
    "])\n",
    "```\n",
    "\n",
    "or, alternatively:\n",
    "\n",
    "```python\n",
    "model = keras.models.Sequential()\n",
    "model.add(keras.layers.Dense(5, activation='relu', input_shape=X_train.shape[1:]))\n",
    "model.add(keras.layers.Dense(4, activation='relu'))\n",
    "model.add(keras.layers.Dense(1))\n",
    "```\n",
    "\n",
    "...and so on. As you can see, adding a layer is as easy as adding a line of code. \n",
    "\n",
    "\n",
    "Let's go back to our single-layer model, and get a list of its (hidden and output) layers: "
   ]
  },
  {
   "cell_type": "code",
   "execution_count": 13,
   "metadata": {},
   "outputs": [
    {
     "data": {
      "text/plain": [
       "[<keras.layers.core.Dense at 0x18aab159b08>,\n",
       " <keras.layers.core.Dense at 0x18aaad957c8>]"
      ]
     },
     "execution_count": 13,
     "metadata": {},
     "output_type": "execute_result"
    }
   ],
   "source": [
    "model.layers"
   ]
  },
  {
   "cell_type": "markdown",
   "metadata": {},
   "source": [
    "We can also get the layers name or fetch them by index: "
   ]
  },
  {
   "cell_type": "code",
   "execution_count": 14,
   "metadata": {},
   "outputs": [
    {
     "data": {
      "text/plain": [
       "'dense_1'"
      ]
     },
     "execution_count": 14,
     "metadata": {},
     "output_type": "execute_result"
    }
   ],
   "source": [
    "hidden1 = model.layers[0]     # Use model.layers[1] for the output layer \n",
    "hidden1.name"
   ]
  },
  {
   "cell_type": "markdown",
   "metadata": {},
   "source": [
    "We can see how weights and biases are initialized: "
   ]
  },
  {
   "cell_type": "code",
   "execution_count": 15,
   "metadata": {
    "scrolled": true
   },
   "outputs": [
    {
     "data": {
      "text/plain": [
       "array([[ 3.4500921e-01,  5.8017135e-02,  2.9814649e-01,  2.9226756e-01,\n",
       "         5.4160845e-01],\n",
       "       [ 4.2473042e-01, -1.4750713e-01, -4.4800287e-01, -5.1457298e-01,\n",
       "         2.3564065e-01],\n",
       "       [ 4.1132069e-01,  1.4079702e-01,  4.8360717e-01, -3.1908926e-01,\n",
       "        -5.1186383e-02],\n",
       "       [-2.9594600e-01, -3.9225459e-02, -2.9463777e-01, -3.7478381e-01,\n",
       "         6.9240510e-02],\n",
       "       [-5.1224232e-01,  2.3711658e-01, -5.4733098e-02, -3.0457562e-01,\n",
       "         2.7155495e-01],\n",
       "       [-3.4767610e-01, -4.4668612e-01,  4.7552896e-01, -4.9084458e-01,\n",
       "         1.3802874e-01],\n",
       "       [-1.9538987e-01, -3.5431072e-01, -3.2166567e-01,  4.4577003e-01,\n",
       "        -2.1970055e-01],\n",
       "       [-9.3907744e-02,  4.5959616e-01,  8.7464452e-02,  1.0315555e-01,\n",
       "        -2.1910092e-01],\n",
       "       [-5.2398902e-01,  3.1235868e-01, -2.8578433e-01, -9.7421408e-03,\n",
       "         2.9641128e-01],\n",
       "       [-4.9400330e-04,  6.2059700e-02,  4.3593729e-01,  3.5691756e-01,\n",
       "         2.2118855e-01],\n",
       "       [-1.3550258e-01, -1.3214111e-02, -2.6697955e-01,  2.9133165e-01,\n",
       "         4.8750174e-01],\n",
       "       [ 4.1614354e-01,  5.7224631e-01,  3.9354509e-01, -3.6274493e-02,\n",
       "        -5.1622671e-01],\n",
       "       [ 1.2766302e-02,  5.4085457e-01,  4.5910239e-01,  2.8779089e-02,\n",
       "         4.7506344e-01]], dtype=float32)"
      ]
     },
     "execution_count": 15,
     "metadata": {},
     "output_type": "execute_result"
    }
   ],
   "source": [
    "weights, biases = hidden1.get_weights()\n",
    "weights"
   ]
  },
  {
   "cell_type": "code",
   "execution_count": 16,
   "metadata": {},
   "outputs": [
    {
     "data": {
      "text/plain": [
       "array([0., 0., 0., 0., 0.], dtype=float32)"
      ]
     },
     "execution_count": 16,
     "metadata": {},
     "output_type": "execute_result"
    }
   ],
   "source": [
    "biases # Initialized at 0 "
   ]
  },
  {
   "cell_type": "markdown",
   "metadata": {},
   "source": [
    "The next step that needs to be performed is the compilation of the model, which defines the loss function, performance metrics, and optimization method of the model. In this example, we use the MSE both as a loss function and as the evaluation metric, in which case we don't need to specify the `metrics` option (if, for example, you want to use the MAE as metric, you can simply add the option `metrics=[\"mae\"]` to the inputs of the `compile` function). For optimization, we will use Stochastic Gradient Descent (technically the mini-batch version) as optimizer."
   ]
  },
  {
   "cell_type": "code",
   "execution_count": 17,
   "metadata": {},
   "outputs": [],
   "source": [
    "model.compile(loss=\"mean_squared_error\", optimizer=\"sgd\")"
   ]
  },
  {
   "cell_type": "markdown",
   "metadata": {},
   "source": [
    "In this [link](https://keras.io/metrics/) you can find the available metrics in Keras; in [this one](https://keras.io/losses/), you can find the available losses; and in [this](https://keras.io/optimizers/), the available optimizers. \n",
    "\n",
    "The model is now ready to be trained. To do this, we use the `fit` function (exactly as in scikit-learn), to which we can also pass other hyperparameters such as the number of epochs and the batch size for mini-batch gradient descent (indicated with $n_B$ in the theoretical notebook of Neural Networks). Furthermore, we can indicate a validation set to assess model performance. (This argument is optional, but highly recommended to help with model tuning). If you didn't create a validation set before, you can alternatively let Keras create it before training; to achieve this, use the `validation_split` argument of `fit` (this has to be a float be between 0 and 1), denoting the ratio of units to randomly split as a validation set.    "
   ]
  },
  {
   "cell_type": "code",
   "execution_count": 18,
   "metadata": {},
   "outputs": [],
   "source": [
    "history = model.fit(X_train_scaled, y_train, epochs=1000, batch_size=32,\n",
    "                    validation_data=(X_valid_scaled, y_valid), verbose=0)"
   ]
  },
  {
   "cell_type": "markdown",
   "metadata": {},
   "source": [
    "We can plot the training and validation MSE observed at each epoch: "
   ]
  },
  {
   "cell_type": "code",
   "execution_count": 19,
   "metadata": {
    "scrolled": false
   },
   "outputs": [
    {
     "data": {
      "image/png": "[encoded data removed]",
      "text/plain": [
       "<Figure size 576x360 with 1 Axes>"
      ]
     },
     "metadata": {
      "needs_background": "light"
     },
     "output_type": "display_data"
    }
   ],
   "source": [
    "pd.DataFrame(history.history)[1:].plot(figsize=(8, 5))\n",
    "plt.xlabel('Epoch')\n",
    "plt.ylabel('MSE')\n",
    "plt.grid(True)\n",
    "plt.show()"
   ]
  },
  {
   "cell_type": "markdown",
   "metadata": {},
   "source": [
    "The model seems to have converged, without overfitting. Let's assess now how to explore the output of the Keras model. Here we can obtain a summary of the model:"
   ]
  },
  {
   "cell_type": "code",
   "execution_count": 20,
   "metadata": {},
   "outputs": [
    {
     "name": "stdout",
     "output_type": "stream",
     "text": [
      "Model: \"sequential_1\"\n",
      "_________________________________________________________________\n",
      "Layer (type)                 Output Shape              Param #   \n",
      "=================================================================\n",
      "dense_1 (Dense)              (None, 5)                 70        \n",
      "_________________________________________________________________\n",
      "dense_2 (Dense)              (None, 1)                 6         \n",
      "=================================================================\n",
      "Total params: 76\n",
      "Trainable params: 76\n",
      "Non-trainable params: 0\n",
      "_________________________________________________________________\n"
     ]
    }
   ],
   "source": [
    "model.summary()"
   ]
  },
  {
   "cell_type": "markdown",
   "metadata": {},
   "source": [
    "Let's now check the estimates of the weights and biases of the hidden layer: "
   ]
  },
  {
   "cell_type": "code",
   "execution_count": 21,
   "metadata": {},
   "outputs": [
    {
     "data": {
      "text/plain": [
       "(13, 5)"
      ]
     },
     "execution_count": 21,
     "metadata": {},
     "output_type": "execute_result"
    }
   ],
   "source": [
    "hidden0 = model.layers[0]\n",
    "weights, biases = hidden1.get_weights()\n",
    "weights.shape   # Shape: n.features x n.nodes "
   ]
  },
  {
   "cell_type": "code",
   "execution_count": 22,
   "metadata": {},
   "outputs": [
    {
     "data": {
      "text/plain": [
       "array([[  0.39586022,  -1.3965946 ,   0.02745466,  -3.0985963 ,\n",
       "         -4.774773  ],\n",
       "       [ -1.1492051 ,   0.06476866,  -0.5094994 ,  -0.32451457,\n",
       "          0.53492266],\n",
       "       [  0.8083154 ,   0.45100728,   1.2954806 ,   0.09208159,\n",
       "          0.47569904],\n",
       "       [ -0.7439928 ,   0.31776437,  -0.6883689 ,   0.15028778,\n",
       "          0.5030628 ],\n",
       "       [ -2.1004004 ,  -4.0892043 ,  -0.11636277,  -0.70726097,\n",
       "         -2.4464087 ],\n",
       "       [ -2.8046834 ,  -2.6861882 ,   8.862835  ,   4.2580667 ,\n",
       "          0.05489183],\n",
       "       [ -1.0692184 ,   5.0049076 ,  -0.7177499 ,  -1.69726   ,\n",
       "         -0.9026026 ],\n",
       "       [  0.51035804, -10.745302  ,  -0.06063677,  -1.3544239 ,\n",
       "         -1.915006  ],\n",
       "       [ -2.022579  ,   2.8751047 ,  -2.0021107 ,   0.74168605,\n",
       "          1.3019769 ],\n",
       "       [ -0.24542502,   0.49112397,  -2.4183533 ,  -0.9556505 ,\n",
       "         -1.2456515 ],\n",
       "       [ -2.6645422 ,  -0.9323434 ,  -2.1411583 ,  -1.9317623 ,\n",
       "         -0.93130386],\n",
       "       [  1.817475  ,   0.9988836 ,  -1.8321708 ,   1.5617864 ,\n",
       "         -0.17923424],\n",
       "       [ -1.7215374 ,  -7.914845  ,  -4.541823  ,  -3.7974484 ,\n",
       "          0.41978535]], dtype=float32)"
      ]
     },
     "execution_count": 22,
     "metadata": {},
     "output_type": "execute_result"
    }
   ],
   "source": [
    "weights"
   ]
  },
  {
   "cell_type": "code",
   "execution_count": 23,
   "metadata": {},
   "outputs": [
    {
     "data": {
      "text/plain": [
       "array([ 2.7319481 , -1.101117  , -0.24770424,  4.2602057 ,  4.710392  ],\n",
       "      dtype=float32)"
      ]
     },
     "execution_count": 23,
     "metadata": {},
     "output_type": "execute_result"
    }
   ],
   "source": [
    "biases"
   ]
  },
  {
   "cell_type": "markdown",
   "metadata": {},
   "source": [
    "If you have the `pydot` library installed, you can visualize your model: "
   ]
  },
  {
   "cell_type": "code",
   "execution_count": 24,
   "metadata": {
    "scrolled": true
   },
   "outputs": [
    {
     "data": {
      "image/png": "[encoded data removed]",
      "text/plain": [
       "<IPython.core.display.Image object>"
      ]
     },
     "execution_count": 24,
     "metadata": {},
     "output_type": "execute_result"
    }
   ],
   "source": [
    "keras.utils.plot_model(model, to_file=\"./img/neural_networks/keras_model.png\")"
   ]
  },
  {
   "cell_type": "markdown",
   "metadata": {},
   "source": [
    "The network hyperparameters can be retrieved via: "
   ]
  },
  {
   "cell_type": "code",
   "execution_count": 25,
   "metadata": {
    "scrolled": true
   },
   "outputs": [
    {
     "data": {
      "text/plain": [
       "{'batch_size': 32,\n",
       " 'epochs': 1000,\n",
       " 'steps': None,\n",
       " 'samples': 409,\n",
       " 'verbose': 0,\n",
       " 'do_validation': True,\n",
       " 'metrics': ['loss', 'val_loss']}"
      ]
     },
     "execution_count": 25,
     "metadata": {},
     "output_type": "execute_result"
    }
   ],
   "source": [
    "history.params"
   ]
  },
  {
   "cell_type": "markdown",
   "metadata": {},
   "source": [
    "Let's now assess model performance on the test set: "
   ]
  },
  {
   "cell_type": "code",
   "execution_count": 26,
   "metadata": {
    "scrolled": true
   },
   "outputs": [
    {
     "name": "stdout",
     "output_type": "stream",
     "text": [
      "51/51 [==============================] - 0s 137us/step\n"
     ]
    },
    {
     "data": {
      "text/plain": [
       "6.476306522593779"
      ]
     },
     "execution_count": 26,
     "metadata": {},
     "output_type": "execute_result"
    }
   ],
   "source": [
    "mse_test = model.evaluate(X_test_scaled, y_test)\n",
    "mse_test"
   ]
  },
  {
   "cell_type": "markdown",
   "metadata": {},
   "source": [
    "Let's now see how to perform predictions; we will use the first 5 units of the test set: "
   ]
  },
  {
   "cell_type": "code",
   "execution_count": 27,
   "metadata": {},
   "outputs": [
    {
     "data": {
      "text/plain": [
       "array([[26.609444],\n",
       "       [23.78115 ],\n",
       "       [19.127851],\n",
       "       [20.119244],\n",
       "       [19.274319]], dtype=float32)"
      ]
     },
     "execution_count": 27,
     "metadata": {},
     "output_type": "execute_result"
    }
   ],
   "source": [
    "y_pred = model.predict(X_test_scaled[:5])\n",
    "y_pred"
   ]
  },
  {
   "cell_type": "markdown",
   "metadata": {},
   "source": [
    "#### Other Hyperparameters. "
   ]
  },
  {
   "cell_type": "markdown",
   "metadata": {},
   "source": [
    "**Learning Rate**. To set the learning rate, simply initialize a `optimizer.SGD` object and set a learning rate: "
   ]
  },
  {
   "cell_type": "code",
   "execution_count": 28,
   "metadata": {},
   "outputs": [],
   "source": [
    "sgd_optimizer = keras.optimizers.SGD(lr=1e-4)"
   ]
  },
  {
   "cell_type": "markdown",
   "metadata": {},
   "source": [
    "If we re-compile the model just estimated and re-train it, the model will continue the training from the current state of the weights and biases (this is call \"warm start\"). If you want to re-train the model from scratch, you should create a new one. Let's continue the training of the neural network, with the new learning rate (the model is compiled with the optimizer just created): "
   ]
  },
  {
   "cell_type": "code",
   "execution_count": 29,
   "metadata": {},
   "outputs": [],
   "source": [
    "model.compile(loss=\"mean_squared_error\", optimizer=sgd_optimizer)\n",
    "history_2 = model.fit(X_train_scaled, y_train, epochs=1000, batch_size=32,\n",
    "                    validation_data=(X_valid_scaled, y_valid), verbose=0)"
   ]
  },
  {
   "cell_type": "code",
   "execution_count": 30,
   "metadata": {},
   "outputs": [
    {
     "data": {
      "image/png": "[encoded data removed]",
      "text/plain": [
       "<Figure size 576x360 with 1 Axes>"
      ]
     },
     "metadata": {
      "needs_background": "light"
     },
     "output_type": "display_data"
    }
   ],
   "source": [
    "# Because of the warm start, the loss starts already at low values \n",
    "pd.DataFrame(history_2.history)[1:].plot(figsize=(8, 5))\n",
    "plt.xlabel('Epoch')\n",
    "plt.ylabel('MSE')\n",
    "plt.grid(True)\n",
    "plt.show()"
   ]
  },
  {
   "cell_type": "code",
   "execution_count": 31,
   "metadata": {},
   "outputs": [
    {
     "name": "stdout",
     "output_type": "stream",
     "text": [
      "51/51 [==============================] - 0s 98us/step\n"
     ]
    },
    {
     "data": {
      "text/plain": [
       "6.150179432887657"
      ]
     },
     "execution_count": 31,
     "metadata": {},
     "output_type": "execute_result"
    }
   ],
   "source": [
    "mse_test_2 = model.evaluate(X_test_scaled, y_test)\n",
    "mse_test_2"
   ]
  },
  {
   "cell_type": "markdown",
   "metadata": {},
   "source": [
    "This model performs worse than the first one, a sign that the learning rate (or the number of epochs) did not improve performance. "
   ]
  },
  {
   "cell_type": "markdown",
   "metadata": {},
   "source": [
    "**Momentum**. Setting the momentum is also very easy; you can just add the `momentum` hyperparameter to the `optimizers.SGD` object."
   ]
  },
  {
   "cell_type": "code",
   "execution_count": 32,
   "metadata": {},
   "outputs": [],
   "source": [
    "sgd_momentum_optimizer = keras.optimizers.SGD(lr=1e-4, momentum=0.9)"
   ]
  },
  {
   "cell_type": "markdown",
   "metadata": {},
   "source": [
    "Where `momentum` is the momentum hyperparameter. You can give such object as input of the `optimizer` argument in phase of model compilation, as done above. "
   ]
  },
  {
   "cell_type": "markdown",
   "metadata": {},
   "source": [
    "**Adam Optimizer**. The ADAM optimizer can be selected via: "
   ]
  },
  {
   "cell_type": "code",
   "execution_count": 33,
   "metadata": {},
   "outputs": [],
   "source": [
    "adam_optimizer = keras.optimizers.Adam(lr=0.001, beta_1=0.9, beta_2=0.999)  "
   ]
  },
  {
   "cell_type": "markdown",
   "metadata": {},
   "source": [
    "This time, `beta_1` and `beta_2` refer to the first and second momdent hyperparameters of ADAM. Once again, you can pass this optimizer as input of the `compile` method. "
   ]
  },
  {
   "cell_type": "markdown",
   "metadata": {},
   "source": [
    "**$l_2$, $l_1$ regularization**. The $l_2$ regularization parameter can be set for each layer, when creating the model. The larger this parameter, the simpler the model will be (i.e., the closer the final weights will be to 0). Here is an example of a model built with two layers, both with $l_2$-regularized weights (the output layer is also regularized): "
   ]
  },
  {
   "cell_type": "code",
   "execution_count": 34,
   "metadata": {},
   "outputs": [],
   "source": [
    "model_regularized = keras.models.Sequential()\n",
    "model_regularized.add(keras.layers.Dense(5, activation='relu', input_shape=X_train.shape[1:], \n",
    "                     kernel_regularizer=keras.regularizers.l2(0.01)))\n",
    "model_regularized.add(keras.layers.Dense(4, activation='relu', kernel_regularizer=keras.regularizers.l2(0.01)))\n",
    "model_regularized.add(keras.layers.Dense(1, kernel_regularizer=keras.regularizers.l2(0.01)))"
   ]
  },
  {
   "cell_type": "code",
   "execution_count": 35,
   "metadata": {
    "scrolled": true
   },
   "outputs": [],
   "source": [
    "model_regularized.compile(loss=\"mean_squared_error\", optimizer=adam_optimizer)\n",
    "history_3 = model_regularized.fit(X_train_scaled, y_train, epochs=1000, batch_size=32,\n",
    "                    validation_data=(X_valid_scaled, y_valid), verbose=0)"
   ]
  },
  {
   "cell_type": "code",
   "execution_count": 36,
   "metadata": {},
   "outputs": [
    {
     "data": {
      "image/png": "[encoded data removed]",
      "text/plain": [
       "<Figure size 576x360 with 1 Axes>"
      ]
     },
     "metadata": {
      "needs_background": "light"
     },
     "output_type": "display_data"
    }
   ],
   "source": [
    "pd.DataFrame(history_3.history)[1:].plot(figsize=(8, 5))\n",
    "plt.xlabel('Epoch')\n",
    "plt.ylabel('MSE')\n",
    "plt.grid(True)\n",
    "plt.show()"
   ]
  },
  {
   "cell_type": "code",
   "execution_count": 37,
   "metadata": {},
   "outputs": [
    {
     "name": "stdout",
     "output_type": "stream",
     "text": [
      "51/51 [==============================] - 0s 137us/step\n"
     ]
    },
    {
     "data": {
      "text/plain": [
       "20.95019011404"
      ]
     },
     "execution_count": 37,
     "metadata": {},
     "output_type": "execute_result"
    }
   ],
   "source": [
    "mse_test_3 = model_regularized.evaluate(X_test_scaled, y_test)\n",
    "mse_test_3"
   ]
  },
  {
   "cell_type": "markdown",
   "metadata": {},
   "source": [
    "In this case, the performance of the model on the test set drops (which means the $l_2$ regularizer should be tuned better). [Other regularizers](https://keras.io/regularizers/) available on Keras are:\n",
    "* keras.regularizers.l1 for $l_1$ regularization (the larger its hyperparameter, the sparser the network)\n",
    "* keras.regularizers.l1_l2 for a combination of $l_1$ and $l_2$ regularization. "
   ]
  },
  {
   "cell_type": "markdown",
   "metadata": {},
   "source": [
    "**Early Stopping**. To set early stopping, you should set a Keras [callback](https://keras.io/callbacks/); this is simply a function that you declare before training, and that Keras will compute during the training stage. The callback for early stopping requires a `patience` hyperparameters, which says for how many epochs after the best validation metric has been observed the algorithm should continue, and a `restore_best_weights` (set to True) to return the set of weights and biases obtained at the epoch which led to the best validation metric. \n",
    "\n",
    "Here is an example of how to set early stopping with Keras, using 10 epochs for the `patience`: "
   ]
  },
  {
   "cell_type": "code",
   "execution_count": 38,
   "metadata": {},
   "outputs": [],
   "source": [
    "# Early Stopping (wait 10 iterations with no progress on the validation set)\n",
    "early_stopping_cb = keras.callbacks.EarlyStopping(patience=10, restore_best_weights=True)"
   ]
  },
  {
   "cell_type": "markdown",
   "metadata": {},
   "source": [
    "And it can be used as follows (we reinitialize a 1-layer model to check how early stopping works): "
   ]
  },
  {
   "cell_type": "code",
   "execution_count": 39,
   "metadata": {},
   "outputs": [],
   "source": [
    "# Initialize a new model\n",
    "model_early_stopping = keras.models.Sequential()\n",
    "model_early_stopping.add(keras.layers.Dense(5, activation='relu', input_shape=X_train.shape[1:]))\n",
    "model_early_stopping.add(keras.layers.Dense(1))\n",
    "model_early_stopping.compile(loss=\"mean_squared_error\", optimizer=adam_optimizer)"
   ]
  },
  {
   "cell_type": "markdown",
   "metadata": {},
   "source": [
    "The early stopping object must be given as input to the *fit* method: "
   ]
  },
  {
   "cell_type": "code",
   "execution_count": 40,
   "metadata": {},
   "outputs": [],
   "source": [
    "history_4 = model_early_stopping.fit(X_train_scaled, y_train, epochs=2500, validation_data=(X_valid_scaled, y_valid),\n",
    "                                   callbacks=[early_stopping_cb], verbose=0)"
   ]
  },
  {
   "cell_type": "markdown",
   "metadata": {},
   "source": [
    "As you can see, the model has stopped much than the 2500 epochs given as input: "
   ]
  },
  {
   "cell_type": "code",
   "execution_count": 41,
   "metadata": {},
   "outputs": [
    {
     "data": {
      "image/png": "[encoded data removed]",
      "text/plain": [
       "<Figure size 576x360 with 1 Axes>"
      ]
     },
     "metadata": {
      "needs_background": "light"
     },
     "output_type": "display_data"
    }
   ],
   "source": [
    "pd.DataFrame(history_4.history)[1:].plot(figsize=(8, 5))\n",
    "plt.xlabel('Epoch')\n",
    "plt.ylabel('MSE')\n",
    "plt.grid(True)\n",
    "plt.show()"
   ]
  },
  {
   "cell_type": "markdown",
   "metadata": {},
   "source": [
    "**Saving your model**. You can save your model in the hard disk as follows:\n",
    "\n",
    "```{python}\n",
    "model_name.save(\"my_keras_model.h5\")\n",
    "```\n",
    "\n",
    "And you can load it in a new session with: \n",
    "\n",
    "```{python}\n",
    "model_name = keras.models.load_model(\"my_keras_model.h5\")\n",
    "```"
   ]
  },
  {
   "cell_type": "markdown",
   "metadata": {},
   "source": [
    "## 2. Classification\n",
    "### 2.1 Binary Classification\n",
    "For the binary classification case, we use the \"circles\" dataset already encountered with kernel SVM's. Let's load it and view it again: "
   ]
  },
  {
   "cell_type": "code",
   "execution_count": 42,
   "metadata": {},
   "outputs": [
    {
     "data": {
      "image/png": "[encoded data removed]",
      "text/plain": [
       "<Figure size 360x360 with 1 Axes>"
      ]
     },
     "metadata": {
      "needs_background": "light"
     },
     "output_type": "display_data"
    }
   ],
   "source": [
    "from sklearn.preprocessing import StandardScaler\n",
    "data_lin_sep_svm = pd.read_csv(\"./data/neural_networks/circles.csv\")\n",
    "X = data_lin_sep_svm.iloc[:,:2]\n",
    "y = data_lin_sep_svm[\"y\"]\n",
    "# This time we don't create a separate validation set but we will exploit the \"validation_split\" argument \n",
    "# of the fit method in Keras\n",
    "X_train, X_test, y_train, y_test = train_test_split(X, y, stratify=y, test_size=0.2, random_state=1)\n",
    "sc = StandardScaler()\n",
    "X_train_scaled = sc.fit_transform(X_train)\n",
    "X_test_scaled = sc.transform(X_test)\n",
    "\n",
    "plt.figure(figsize=(5,5))\n",
    "plt.plot(X_train_scaled[y_train==0,0], X_train_scaled[y_train==0,1], \"bo\", label=\"Class 0\")\n",
    "plt.plot(X_train_scaled[y_train==1,0], X_train_scaled[y_train==1,1], \"ro\", label=\"Class 1\")\n",
    "plt.xlabel(\"x1\")\n",
    "plt.ylabel(\"x2\")\n",
    "plt.legend()\n",
    "plt.show()"
   ]
  },
  {
   "cell_type": "markdown",
   "metadata": {},
   "source": [
    "**Setting Up the network**. Let's review the ingredients of a Neural Network for binary classification: \n",
    "* a single output layer \n",
    "* cross-entropy for binary classification\n",
    "* sigmoid activation function for the output layer\n",
    "\n",
    "Since the classification taks is highly non-linear in this case, we use as an example a network with one hidden layers containing 15 neurons (and ReLU activation function). Let's set the network: "
   ]
  },
  {
   "cell_type": "code",
   "execution_count": 43,
   "metadata": {},
   "outputs": [],
   "source": [
    "model = keras.models.Sequential()\n",
    "model.add(keras.layers.Dense(15, activation=\"relu\", input_shape=X_train_scaled.shape[1:]))\n",
    "model.add(keras.layers.Dense(1, activation=\"sigmoid\"))"
   ]
  },
  {
   "cell_type": "markdown",
   "metadata": {},
   "source": [
    "To compile the model, we use the accuracy as performance metric, and `binary_crossentropy` as loss function: "
   ]
  },
  {
   "cell_type": "code",
   "execution_count": 44,
   "metadata": {},
   "outputs": [],
   "source": [
    "model.compile(loss=\"binary_crossentropy\", \n",
    "              optimizer=keras.optimizers.Adam(lr=0.01, beta_1=0.9, beta_2=0.999), \n",
    "              metrics=[\"accuracy\"])"
   ]
  },
  {
   "cell_type": "markdown",
   "metadata": {},
   "source": [
    "And now we are ready to train the model: "
   ]
  },
  {
   "cell_type": "code",
   "execution_count": 45,
   "metadata": {
    "scrolled": false
   },
   "outputs": [],
   "source": [
    "# We use 10% of the train set as a validation set: \n",
    "history = model.fit(X_train_scaled, y_train, epochs=1000, batch_size=32,\n",
    "                    validation_split=0.1, verbose=0)"
   ]
  },
  {
   "cell_type": "code",
   "execution_count": 46,
   "metadata": {},
   "outputs": [
    {
     "data": {
      "image/png": "[encoded data removed]",
      "text/plain": [
       "<Figure size 576x360 with 1 Axes>"
      ]
     },
     "metadata": {
      "needs_background": "light"
     },
     "output_type": "display_data"
    }
   ],
   "source": [
    "pd.DataFrame(history.history)[1:].plot(figsize=(8, 5))\n",
    "plt.xlabel('Epoch')\n",
    "plt.ylabel('Cross-Entropy/Accuracy')\n",
    "plt.grid(True)\n",
    "plt.show()"
   ]
  },
  {
   "cell_type": "markdown",
   "metadata": {},
   "source": [
    "The model seems to have converged quite quickly! Let's assess its performance on the test set: "
   ]
  },
  {
   "cell_type": "code",
   "execution_count": 47,
   "metadata": {},
   "outputs": [
    {
     "name": "stdout",
     "output_type": "stream",
     "text": [
      "100/100 [==============================] - 0s 680us/step\n"
     ]
    },
    {
     "data": {
      "text/plain": [
       "[0.002217177735193554, 1.0]"
      ]
     },
     "execution_count": 47,
     "metadata": {},
     "output_type": "execute_result"
    }
   ],
   "source": [
    "model.evaluate(X_test_scaled, y_test) "
   ]
  },
  {
   "cell_type": "markdown",
   "metadata": {},
   "source": [
    "Which means the loss on the test set is very close to 0, and the accuracy is super! For prediction, we can obtain both the probabilities and the classes:"
   ]
  },
  {
   "cell_type": "code",
   "execution_count": 48,
   "metadata": {},
   "outputs": [
    {
     "data": {
      "text/plain": [
       "array([[1.]], dtype=float32)"
      ]
     },
     "execution_count": 48,
     "metadata": {},
     "output_type": "execute_result"
    }
   ],
   "source": [
    "# Predict probability of class 1 for the first unit of the test set:\n",
    "y_proba = model.predict(X_test_scaled[1].reshape(1,-1))\n",
    "y_proba.round(2)"
   ]
  },
  {
   "cell_type": "code",
   "execution_count": 49,
   "metadata": {},
   "outputs": [
    {
     "data": {
      "text/plain": [
       "array([[1]])"
      ]
     },
     "execution_count": 49,
     "metadata": {},
     "output_type": "execute_result"
    }
   ],
   "source": [
    "# Predict class for the first unit of the test set:\n",
    "y_pred = model.predict_classes(X_test_scaled[1].reshape(1,-1))\n",
    "y_pred "
   ]
  },
  {
   "cell_type": "markdown",
   "metadata": {},
   "source": [
    "Last, as we are in a two-dimensional case, let's plot the model decision boundary: "
   ]
  },
  {
   "cell_type": "code",
   "execution_count": 50,
   "metadata": {},
   "outputs": [
    {
     "data": {
      "image/png": "[encoded data removed]",
      "text/plain": [
       "<Figure size 360x360 with 1 Axes>"
      ]
     },
     "metadata": {
      "needs_background": "light"
     },
     "output_type": "display_data"
    }
   ],
   "source": [
    "xx, yy = np.meshgrid(np.arange(X_train_scaled[:,0].min(), X_train_scaled[:,0].max(), 0.1),\n",
    "                     np.arange(X_train_scaled[:,1].min(), X_train_scaled[:,1].max(), 0.1))\n",
    "zz = model.predict(np.c_[xx.ravel(),yy.ravel()]).reshape(xx.shape)\n",
    "\n",
    "\n",
    "plt.figure(figsize=(5,5))\n",
    "contour = plt.contour(xx, yy, zz, levels=1, alpha=1., vmin=0, vmax=1, linewidths=2, colors='k', linestyles='-')\n",
    "plt.plot(X_train_scaled[y_train==0,0], X_train_scaled[y_train==0,1], \"bo\", label=\"Class 0\")\n",
    "plt.plot(X_train_scaled[y_train==1,0], X_train_scaled[y_train==1,1], \"ro\", label=\"Class 1\")\n",
    "plt.xlabel(\"x1\")\n",
    "plt.ylabel(\"x2\")\n",
    "plt.ylim(-3,3)\n",
    "plt.xlim(-3,3)\n",
    "plt.legend(loc=3,  frameon=False)\n",
    "plt.show()"
   ]
  },
  {
   "cell_type": "markdown",
   "metadata": {},
   "source": [
    "As an exercise, try to re-run this neural network with the \"sigmoid\" activation function for the hidden layer. "
   ]
  },
  {
   "cell_type": "markdown",
   "metadata": {},
   "source": [
    "### 2.2 Multiclass Classification\n",
    "For the multiclass case, we see an example with the *iris dataset*. Unlike what done with other algorithms, however, this time we will use the dataset with all 4 original features. "
   ]
  },
  {
   "cell_type": "code",
   "execution_count": 51,
   "metadata": {},
   "outputs": [],
   "source": [
    "from sklearn.datasets import load_iris \n",
    "X, y = load_iris(return_X_y=True)"
   ]
  },
  {
   "cell_type": "markdown",
   "metadata": {},
   "source": [
    "In the multi-class case, the output must be one-hot encoded. This can be done with the `OneHotEncoder` function of scikit-learn, or-alternatively- with the `utils.to_categorical` function of Keras: "
   ]
  },
  {
   "cell_type": "code",
   "execution_count": 52,
   "metadata": {},
   "outputs": [
    {
     "data": {
      "text/plain": [
       "array([[1., 0., 0.],\n",
       "       [1., 0., 0.],\n",
       "       [1., 0., 0.],\n",
       "       [1., 0., 0.],\n",
       "       [1., 0., 0.]], dtype=float32)"
      ]
     },
     "execution_count": 52,
     "metadata": {},
     "output_type": "execute_result"
    }
   ],
   "source": [
    "y_enc = keras.utils.to_categorical(y)\n",
    "y_enc[:5]"
   ]
  },
  {
   "cell_type": "markdown",
   "metadata": {},
   "source": [
    "Let's now split the train/validation/test set and standardize the features:"
   ]
  },
  {
   "cell_type": "code",
   "execution_count": 53,
   "metadata": {},
   "outputs": [],
   "source": [
    "X_trainvalid, X_test, y_trainvalid, y_test = train_test_split(X, y_enc, stratify=y, test_size=0.1, random_state=1)\n",
    "X_train, X_valid, y_train, y_valid = train_test_split(X_trainvalid, y_trainvalid, stratify=y_trainvalid, \n",
    "                                                      test_size=0.1, random_state=1)\n",
    "sc = StandardScaler()\n",
    "X_train_scaled = sc.fit_transform(X_train)\n",
    "X_valid_scaled = sc.transform(X_valid)\n",
    "X_test_scaled = sc.transform(X_test)"
   ]
  },
  {
   "cell_type": "markdown",
   "metadata": {},
   "source": [
    "**The network**. In the multiclass case, a typical FNN has the following architecture: \n",
    "* as many output layers as there are classes (3 in this case)\n",
    "* cross-entropy loss \n",
    "* softmax activation function for the output layer\n",
    "\n",
    "We are going to build a network with one layer containing 7 neurons, this time activated with the tanh function: "
   ]
  },
  {
   "cell_type": "code",
   "execution_count": 54,
   "metadata": {},
   "outputs": [],
   "source": [
    "model = keras.models.Sequential([\n",
    "    keras.layers.Dense(7, activation=\"tanh\", input_shape=X_train_scaled.shape[1:]),\n",
    "    keras.layers.Dense(3, activation=\"softmax\")\n",
    "])"
   ]
  },
  {
   "cell_type": "markdown",
   "metadata": {},
   "source": [
    "As usual, let's compile and fit the model (using the `categorical_crossentropy` loss, and again the accuracy as metric): "
   ]
  },
  {
   "cell_type": "code",
   "execution_count": 55,
   "metadata": {},
   "outputs": [],
   "source": [
    "model.compile(loss=\"categorical_crossentropy\", \n",
    "              optimizer=keras.optimizers.Adam(lr=0.01, beta_1=0.9, beta_2=0.999), \n",
    "              metrics=[\"accuracy\"])\n",
    "history = model.fit(X_train_scaled, y_train, epochs=1000, batch_size=32,\n",
    "                    validation_split=0.1, verbose=0)"
   ]
  },
  {
   "cell_type": "code",
   "execution_count": 56,
   "metadata": {},
   "outputs": [
    {
     "data": {
      "image/png": "[encoded data removed]",
      "text/plain": [
       "<Figure size 576x360 with 1 Axes>"
      ]
     },
     "metadata": {
      "needs_background": "light"
     },
     "output_type": "display_data"
    }
   ],
   "source": [
    "pd.DataFrame(history.history)[1:].plot(figsize=(8, 5))\n",
    "plt.xlabel('Epoch')\n",
    "plt.ylabel('Cross-Entropy/Accuracy')\n",
    "plt.grid(True)\n",
    "plt.show()"
   ]
  },
  {
   "cell_type": "markdown",
   "metadata": {},
   "source": [
    "The model does not perform bad, but it can be improved. For example, you can see that the validation accuracy is about 90% and that the validation cross-entropy degrades with the epoch (maybe an early stopping with tweaking of some other hyperparameters might help in this case; try as an exercise).\n",
    "\n",
    "Next, let's assess the performance on the test set: "
   ]
  },
  {
   "cell_type": "code",
   "execution_count": 57,
   "metadata": {},
   "outputs": [
    {
     "name": "stdout",
     "output_type": "stream",
     "text": [
      "\r",
      "15/15 [==============================] - 0s 133us/step\n"
     ]
    },
    {
     "data": {
      "text/plain": [
       "[8.136499673128128e-05, 1.0]"
      ]
     },
     "execution_count": 57,
     "metadata": {},
     "output_type": "execute_result"
    }
   ],
   "source": [
    "model.evaluate(X_test_scaled, y_test) "
   ]
  },
  {
   "cell_type": "markdown",
   "metadata": {},
   "source": [
    "Last, the predicted probabilities for each class (for the first test unit):"
   ]
  },
  {
   "cell_type": "code",
   "execution_count": 58,
   "metadata": {},
   "outputs": [
    {
     "data": {
      "text/plain": [
       "array([[0., 1., 0.]], dtype=float32)"
      ]
     },
     "execution_count": 58,
     "metadata": {},
     "output_type": "execute_result"
    }
   ],
   "source": [
    "# Predict probability of class 1 for the first unit of the test set:\n",
    "y_proba = model.predict(X_test_scaled[1].reshape(1,-1))\n",
    "y_proba.round(2)"
   ]
  },
  {
   "cell_type": "markdown",
   "metadata": {},
   "source": [
    "...and the same unit's predicted class:"
   ]
  },
  {
   "cell_type": "code",
   "execution_count": 59,
   "metadata": {},
   "outputs": [
    {
     "data": {
      "text/plain": [
       "array([1], dtype=int64)"
      ]
     },
     "execution_count": 59,
     "metadata": {},
     "output_type": "execute_result"
    }
   ],
   "source": [
    "# Predict class for the first unit of the test set:\n",
    "y_pred = model.predict_classes(X_test_scaled[1].reshape(1,-1))\n",
    "y_pred "
   ]
  },
  {
   "cell_type": "markdown",
   "metadata": {},
   "source": [
    "## 3. Interfacing Keras with scikit-learn for network tuning"
   ]
  },
  {
   "cell_type": "markdown",
   "metadata": {},
   "source": [
    "It is possible to interface Keras with scikit-learn to tune the model with cross-validation. Here, we will see an example with the Heart dataset, therefore we are in a binary classification case. However, the implementation for multiclass classification and regression is straightforward. \n",
    "\n",
    "We first load the data: "
   ]
  },
  {
   "cell_type": "code",
   "execution_count": 60,
   "metadata": {},
   "outputs": [],
   "source": [
    "data_train = pd.read_csv(\"./data/heart_data/heart_train_processed.csv\")\n",
    "data_test = pd.read_csv(\"./data/heart_data/heart_test_processed.csv\")\n",
    "X_train = data_train.drop(\"y\", axis=1)\n",
    "X_test = data_test.drop(\"y\", axis=1)\n",
    "y_train = data_train[\"y\"]\n",
    "y_test = data_test[\"y\"]"
   ]
  },
  {
   "cell_type": "markdown",
   "metadata": {},
   "source": [
    "To start with, we need to wrap the Keras model in scikit-learn. First, we create a function that takes as arguments the hyperparameters that we want to tune (plus the number of neurons in the input layer), and that returns a compiled Keras model. In this case, we use the SGD optimizer, but of course you can use the ADAM or any other optimizer you desire (in addition, you can also decide to tune the type of activation function -here set as ReLU- of the hidden layers, as well as the  $l_1$ and $l_2$ regularizers, by adding these hyperparameters to the arguments of the function): "
   ]
  },
  {
   "cell_type": "code",
   "execution_count": 61,
   "metadata": {},
   "outputs": [],
   "source": [
    "def build_binary_model(n_hidden=1, n_neurons=7, learning_rate=1e-3, input_shape=[19]):\n",
    "    model = keras.models.Sequential()\n",
    "    # This is an alternative way to declare an input layer: \n",
    "    model.add(keras.layers.InputLayer(input_shape=input_shape))\n",
    "    # Add as many hidden layers as the ones specified by the model:\n",
    "    for layer in range(n_hidden):\n",
    "        model.add(keras.layers.Dense(n_neurons, activation=\"relu\"))\n",
    "    model.add(keras.layers.Dense(1, activation=\"sigmoid\"))\n",
    "    optimizer = keras.optimizers.SGD(lr=learning_rate)\n",
    "    model.compile(loss=\"binary_crossentropy\", optimizer=optimizer, metrics=[\"accuracy\"])\n",
    "    return model"
   ]
  },
  {
   "cell_type": "markdown",
   "metadata": {},
   "source": [
    "Next, let's wrap the function:"
   ]
  },
  {
   "cell_type": "code",
   "execution_count": 62,
   "metadata": {},
   "outputs": [],
   "source": [
    "keras_binary_classifier = keras.wrappers.scikit_learn.KerasClassifier(build_binary_model)"
   ]
  },
  {
   "cell_type": "markdown",
   "metadata": {},
   "source": [
    "And this is it! We can now use `keras_multi_classifier` as if it was a normal scikit-learn object, with the usual `fit` and `predict` methods. The last arguments of this function can be arguments of the Keras library; in this case, we use the `validation_split` parameter with 5% of the training data, as well as an early stopping callback: "
   ]
  },
  {
   "cell_type": "code",
   "execution_count": 63,
   "metadata": {},
   "outputs": [],
   "source": [
    "kmc = keras_binary_classifier.fit(X_train, y_train, epochs=700, validation_split=0.05,\n",
    "                                 callbacks=[keras.callbacks.EarlyStopping(patience=10)], verbose=0)"
   ]
  },
  {
   "cell_type": "markdown",
   "metadata": {},
   "source": [
    "With the usual `score` method of scikit-learn, we can assess the performance of the model on the test data: "
   ]
  },
  {
   "cell_type": "code",
   "execution_count": 64,
   "metadata": {},
   "outputs": [
    {
     "name": "stdout",
     "output_type": "stream",
     "text": [
      "61/61 [==============================] - 0s 82us/step\n"
     ]
    },
    {
     "data": {
      "text/plain": [
       "0.7704917788505554"
      ]
     },
     "execution_count": 64,
     "metadata": {},
     "output_type": "execute_result"
    }
   ],
   "source": [
    "keras_binary_classifier.score(X_test, y_test)"
   ]
  },
  {
   "cell_type": "markdown",
   "metadata": {},
   "source": [
    "**Tuning with cross-validation**. We are now going to perform tuning with cross-validation. Given the large number of hyperparameters that need to be optimized, we will use random search, rather than Grid Search (which is nonetheless still possible, if you prefer manually specify a grid of value). As it is highly unlikely to find the best setting for a Neural Network with just grid/randomized search methods, a good tip would be to use these methodologies to find a good initial setting for (some of) the hyperparameters, and then manually refine these (and other) hyperparameter, with a validation set. Moreover, for large datasets tuning a Neural Network with cross-validation is not recommended given the large computational costs involved in this operation. \n",
    "\n",
    "We are going to perform the random tuning in the following way:\n",
    "* we will make the algorithm search between 0 and 3 hidden layer (if the best number of hidden layer was 0, we can interpret the result as a sign of linear relationships between the features and the target on this dataset)\n",
    "* we will choose between 1 and 15 neurons per hidden layer\n",
    "* we will use a [reciprocal distribution](https://en.wikipedia.org/wiki/Reciprocal_distribution) for the learning rate of SGD; this distribution will range between 1e-4 and 0.99, giving larger probabilities to smaller values\n",
    "* we will vary the number of epochs (equal to 500, 1000, 2000, or 3000)\n",
    "\n",
    "The search will occur across 10 iterations (of course, in more intensive analyses you should increase such number). Let's initialize the random grid: "
   ]
  },
  {
   "cell_type": "code",
   "execution_count": 65,
   "metadata": {},
   "outputs": [],
   "source": [
    "from scipy.stats import reciprocal    # Reciprocal distribution in scipy.stats\n",
    "from sklearn.model_selection import RandomizedSearchCV\n",
    "param_distribs = {\n",
    "    \"n_hidden\": [0, 1, 2, 3],\n",
    "    \"n_neurons\": np.arange(1, 15),\n",
    "    \"learning_rate\": reciprocal(1e-4, 9.9e-1),\n",
    "    \"epochs\": [500, 1000, 2000, 3000]\n",
    "}"
   ]
  },
  {
   "cell_type": "markdown",
   "metadata": {},
   "source": [
    "Now we are ready to perform cross-validation (we will use 3-fold CV): "
   ]
  },
  {
   "cell_type": "code",
   "execution_count": 66,
   "metadata": {},
   "outputs": [
    {
     "name": "stdout",
     "output_type": "stream",
     "text": [
      "Fitting 3 folds for each of 10 candidates, totalling 30 fits\n"
     ]
    },
    {
     "name": "stderr",
     "output_type": "stream",
     "text": [
      "[Parallel(n_jobs=-1)]: Using backend LokyBackend with 2 concurrent workers.\n",
      "[Parallel(n_jobs=-1)]: Done  30 out of  30 | elapsed:  4.0min finished\n"
     ]
    },
    {
     "data": {
      "text/plain": [
       "RandomizedSearchCV(cv=3, error_score='raise-deprecating',\n",
       "          estimator=<keras.wrappers.scikit_learn.KerasClassifier object at 0x0000018AAC375308>,\n",
       "          fit_params=None, iid=False, n_iter=10, n_jobs=-1,\n",
       "          param_distributions={'n_hidden': [0, 1, 2, 3], 'n_neurons': array([ 1,  2,  3,  4,  5,  6,  7,  8,  9, 10, 11, 12, 13, 14]), 'learning_rate': <scipy.stats._distn_infrastructure.rv_frozen object at 0x0000018AAD8ABE48>, 'epochs': [500, 1000, 2000, 3000]},\n",
       "          pre_dispatch='2*n_jobs', random_state=2, refit=True,\n",
       "          return_train_score='warn', scoring=None, verbose=2)"
      ]
     },
     "execution_count": 66,
     "metadata": {},
     "output_type": "execute_result"
    }
   ],
   "source": [
    "rnd_search_cv = RandomizedSearchCV(keras_binary_classifier, param_distribs, n_iter=10, cv=3, n_jobs=-1, iid=False, \n",
    "                                  random_state=2, verbose=2)\n",
    "rnd_search_cv.fit(X_train, y_train, verbose=0)"
   ]
  },
  {
   "cell_type": "markdown",
   "metadata": {},
   "source": [
    "The best set of hyperparameters was: "
   ]
  },
  {
   "cell_type": "code",
   "execution_count": 67,
   "metadata": {},
   "outputs": [
    {
     "data": {
      "text/plain": [
       "{'epochs': 3000,\n",
       " 'learning_rate': 0.0010786090301759563,\n",
       " 'n_hidden': 1,\n",
       " 'n_neurons': 11}"
      ]
     },
     "execution_count": 67,
     "metadata": {},
     "output_type": "execute_result"
    }
   ],
   "source": [
    "rnd_search_cv.best_params_"
   ]
  },
  {
   "cell_type": "markdown",
   "metadata": {},
   "source": [
    "Keep in mind that increasing the number of ranomized search iterations might yield a different (and more reliable) result. The CV accuracy of this model is:"
   ]
  },
  {
   "cell_type": "code",
   "execution_count": 68,
   "metadata": {},
   "outputs": [
    {
     "data": {
      "text/plain": [
       "0.8511316974957784"
      ]
     },
     "execution_count": 68,
     "metadata": {},
     "output_type": "execute_result"
    }
   ],
   "source": [
    "rnd_search_cv.best_score_"
   ]
  },
  {
   "cell_type": "markdown",
   "metadata": {},
   "source": [
    "And the accuracy of the best model on the test set:"
   ]
  },
  {
   "cell_type": "code",
   "execution_count": 69,
   "metadata": {},
   "outputs": [
    {
     "name": "stdout",
     "output_type": "stream",
     "text": [
      "61/61 [==============================] - 0s 311us/step\n"
     ]
    },
    {
     "data": {
      "text/plain": [
       "0.8360655903816223"
      ]
     },
     "execution_count": 69,
     "metadata": {},
     "output_type": "execute_result"
    }
   ],
   "source": [
    "rnd_search_cv.score(X_test, y_test)"
   ]
  },
  {
   "cell_type": "markdown",
   "metadata": {},
   "source": [
    "Last, you can save the Keras model in a separate object, with the `best_estimator_.model` attribute:"
   ]
  },
  {
   "cell_type": "code",
   "execution_count": 70,
   "metadata": {},
   "outputs": [],
   "source": [
    "model = rnd_search_cv.best_estimator_.model"
   ]
  },
  {
   "cell_type": "markdown",
   "metadata": {},
   "source": [
    "**Exercise**. As an exercise, try to find the best set of the following hyperparameters (either with Grid-Search, or with random-search), on top of the ones already explored in this last section: \n",
    "* $l_2$ regularizer\n",
    "* activation function for the hidden layers\n",
    "* momentum \n",
    "* number of epochs\n",
    "* number of batch_size (you can simply add the 'batch_size' key to the dictionary of hyperparameters grid)\n",
    "\n",
    "If you use randomized search, increase the number of randomized search iterations to search across a larger number of parameter sets (and have a nice walk while you wait for the results...). "
   ]
  }
 ],
 "metadata": {
  "kernelspec": {
   "display_name": "Python 3",
   "language": "python",
   "name": "python3"
  },
  "language_info": {
   "codemirror_mode": {
    "name": "ipython",
    "version": 3
   },
   "file_extension": ".py",
   "mimetype": "text/x-python",
   "name": "python",
   "nbconvert_exporter": "python",
   "pygments_lexer": "ipython3",
   "version": "3.8.0"
  }
 },
 "nbformat": 4,
 "nbformat_minor": 2
}
