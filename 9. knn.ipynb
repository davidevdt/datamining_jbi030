{
 "cells": [
  {
   "cell_type": "code",
   "execution_count": 1,
   "metadata": {},
   "outputs": [],
   "source": [
    "import pandas as pd \n",
    "import numpy as np\n",
    "%matplotlib inline\n",
    "import matplotlib.pyplot as plt "
   ]
  },
  {
   "cell_type": "markdown",
   "metadata": {},
   "source": [
    "=================================================================================================================\n",
    "# Lecture Notes: K-Nearest-Neighbors\n",
    "\n",
    "\n",
    "##### D.Vidotto, Data Mining: JBI030 2019/2020\n",
    "\n",
    "\n",
    "================================================================================================================="
   ]
  },
  {
   "cell_type": "markdown",
   "metadata": {},
   "source": [
    "We already have encountered KNN during the first lectures, when introducing model performance and model selection. Here, we are going to give a closer look to the algorithm, as well as to different ways to calculate distances, and to techniques to speed up the neighbors search.\n",
    "\n",
    "Students are assumed to have followed the class and understood the following concepts: \n",
    "* lazy learning\n",
    "* distance functions \n",
    "* KD-trees and ball-tress\n",
    "* Curse of Dimensionality\n",
    "\n",
    "With this notebook, we will review the following concepts: \n",
    "1. KNN: Introduction\n",
    "1. Distance Functions \n",
    "1. KNN Algorithm\n",
    "  * Classification \n",
    "  * Regression \n",
    "  * Varying $k$\n",
    "1. Speeding up Knn\n",
    "  * KD-Trees\n",
    "  * Ball Trees \n",
    "1. The Curse of Dimensionality \n",
    "1. Other Remarks \n",
    "1. Examples in Python \n",
    "  * Classification \n",
    "  * Regression \n",
    "1. Example on the Heart Data \n",
    "\n",
    "\n",
    "## 1. KNN: Introduction\n",
    "KNN is a *non-parametric* algorithm with a peculiarity that distinguishes it from all other DM models we have encountered so far: it doesn't need to be trained. This is because predictions of KNN are made simply by \"copying\" the class of the data points that are closest to the ones we want to predict (hence its name). This type of learning - where no model is learned- is called **lazy learning** in the Machine Learning community. Furthermore, because predictions are based on other observed data rather than an underlying model, the way KNN performs prediction is also called **instance-based** learning. \n",
    "\n",
    "As you may recall from the introduction of KNN given in the beginning of the course, KNN works by evaluating the location of the test point we want to predict (indicated with a $^*$ in the plot below), and takes its $k$ ($\\in \\mathbb{N}^+$) closest neighbors ($k=3$ in the next plot), and performs prediction. \n",
    "\n",
    "<img src=\"./img/knn/example.png\" width=\"650\" height=\"50\"/>\n",
    "\n",
    "Therefore, the algorithm chooses the training points that are closest to the new example we want to predict, and predicts the most common class among such points. How the closest points are chosen requires a definition of distance, which we are going to provide now. \n",
    "\n",
    "\n",
    "## 2. Distance Functions \n",
    "The most common distance function used for KNN is the **Euclidean distance**. It is called like this because it measures the $l_2$ (Euclidean) norm of the difference between two vectors $\\mathbf{x}$ and $\\mathbf{z}$: \n",
    "\n",
    "<br>\n",
    "$$d(\\mathbf{x}, \\mathbf{z}) = ||\\mathbf{x}-\\mathbf{z}||_2 =  \\sqrt{(x_1-z_1)^2 + (x_2-z_2)^2 + \\cdots + (x_D-z_D)^2}$$\n",
    "<br>\n",
    "\n",
    "with $\\mathbf{x},\\mathbf{z}\\ \\in\\ \\mathbb{R}^D$. \n",
    "<br>\n",
    "\n",
    "Another common distance function is the **Manatthan distance**, also called *city-block* distance (the name is due to the fact that this is the distance a car would travel from one point to another in a city arranged in square blocks). This distance is the $l_1$ norm of the difference between $\\mathbf{x}$ and $\\mathbf{z}$: \n",
    "\n",
    "<br>\n",
    "$$d(\\mathbf{x}, \\mathbf{z}) = ||\\mathbf{x}-\\mathbf{z}||_1 =  \\left(|x_1-z_1| + |x_2-z_2| + \\cdots + |x_D-z_D|\\right)$$\n",
    "<br>\n",
    "\n",
    "Further information on the $l_1$ distance can be found on [Wikipedia](https://en.wikipedia.org/wiki/Taxicab_geometry). \n",
    "\n",
    "Both the Euclidean and the Manatthan distances are special cases of the **Minkowski distance**, defined as the $l_p$ norm of the difference of two vectors: \n",
    "\n",
    "$$ d(\\mathbf{x}, \\mathbf{z}) = ||\\mathbf{x}-\\mathbf{z}||_p = \\left(|x_1-z_1|^p + |x_2-z_2|^p + \\cdots + |x_D-z_D|^p\\right)^{\\frac{1}{p}}.$$\n",
    "\n",
    "When $p=1$, this is equivalent to the Manatthan distance, and with $p=2$, this is equivalent to the Euclidean distance. As we increase $p$, we give more and more weight to the dimensions having larger differences. With $p=\\infty$ we have the *Chebyshev distance*, which is equal to \n",
    "\n",
    "<br>\n",
    "$$d(\\mathbf{x},\\mathbf{z}) = \\max_d |x_d-z_d|,\\ d=1,...,D$$. \n",
    "<br>\n",
    "\n",
    "The following figure plots all the point having distance 1 from an arbitrary point in a two-dimensional space detected by the Euclidean, Manatthan, and Minkowski with p=4 distances.\n",
    "\n",
    "\n",
    "<img src=\"./img/knn/distances.png\" width=\"350\" height=\"50\"/>\n",
    "\n",
    "\n",
    "If the $d$-th dimension of $\\mathbf{x}$ and $\\mathbf{z}$ is categorical, rather than continuous, we simply denote the distance of two categories as: \n",
    "\n",
    "$$\n",
    "d(x_d, y_d) = \n",
    "\\left\\{\n",
    "\\begin{array}{rl}\n",
    "1 & \\ if\\ x_d \\neq y_d \\\\\n",
    "0 & \\ if\\  x_d = y_d\n",
    "\\end{array}\n",
    "\\right.\n",
    "$$\n",
    "\n",
    "Note that this definition of distance is automatically implemented if categorical features are one-hot encoded. \n",
    "\n",
    "\n",
    "## 3. KNN Algorithm \n",
    "### 3.1 Classification\n",
    "Given a new point $\\mathbf{x}^*$ that we wish to classify, a value for $k$, and a distance function, KNN finds the set $S_{\\mathbf{x}^*}$ of the $k$ closest training points to $\\mathbf{x}^*$. $S_{\\mathbf{x}^*}$ is called the *neighborhood* of $\\mathbf{x}^*$; by \"closest points\", it is meant the $k$ training observation that have the minimum distance from $\\mathbf{x}^*$. Subsequently, the probability of each class $y=c$ is calculated within the neighborhood: \n",
    "\n",
    "<br>\n",
    "$$ p_c = \\frac{\\sum_{i \\in S_{\\mathbf{x}^*}} \\mathcal{I}(y_i=c) }{\\sum_{i=1}^{n} \\mathcal{I}(\\mathbf{x}_i \\in S_{\\mathbf{x}^*})} = \\frac{\\#\\ of\\ instances\\ in\\ the\\ neighborhood\\ belonging\\ to\\ class\\ c}{total\\ \\#\\ of\\ instances\\ in\\ the\\ neighborhood} $$\n",
    "<br>\n",
    "\n",
    "The point $\\mathbf{x}^*$ is then predicted to the class $c$ that maximizes $p_c$. \n",
    "\n",
    "\n",
    "**Example**. We shall see a small example (using Euclidean distance) with $n=5$ data points, and $p=2$ features (do not confuse the $p$ to denote the number of features with the $p$ used to indicate the order of the Minkowski distance), and a point that we need to predict. The dataset is the following one: \n",
    "\n",
    "\n",
    "|| $$\\mathbf{X}_1$$ | $$\\mathbf{X}_2$$ | Class | \n",
    "|:----:|:---:|:---:|:---:|\n",
    "| 1 | 0.1 | 0.1 | 1 | \n",
    "| 2 | 0.3 | 0.45 | 1 | \n",
    "| 3 | 0.35 | 0.6 | 1 | \n",
    "| 4 | 0.55 | 0.6 | 2 | \n",
    "| 5 | 0.9 | 0.15 | 2 | \n",
    "|**6** | **0.5** | **0.5**| **?**|\n",
    "\n",
    "Unit 6 is the one we need to predict. Graphically, the data appears as follows: \n",
    "\n",
    "<img src=\"./img/knn/algorithm_example.png\" width=\"350\" height=\"50\"/>\n",
    "\n",
    "\n",
    "The Euclidean distance of point 6 from the first training point is: \n",
    "\n",
    "$$d(1,6) = \\sqrt{(0.1-0.5)^2+(0.1-0.5)^2} = 0.566$$\n",
    "\n",
    "Repeating the calculation for all the examples in the training set we obtain: \n",
    "\n",
    "$$d(1,6) = 0.566$$\n",
    "$$d(2,6) = 0.206$$\n",
    "$$d(3,6) = 0.180$$\n",
    "$$d(4,6) = 0.112$$\n",
    "$$d(5,6) = 0.532$$\n",
    "\n",
    "With $k=1$, we would choose unit number 4 as the candidate neighbor, and we would predict the class of such unit for the new example, which happens to be Class 2. \n",
    "\n",
    "<img src=\"./img/knn/algorithm_example_k1.png\" width=\"350\" height=\"50\"/>\n",
    "\n",
    "\n",
    "However, with different values of $k$ it is not sure that we would predict the same class. For example, with $k=3$, the neighborhood of point 6 is composed by points 2, 3, and 4. In this case, the class with maximum probability is class 1, with $p_{Class\\ 1} = 2/3$. In this case, point 6 is predicted to belong to class 1. \n",
    "\n",
    "<img src=\"./img/knn/algorithm_example_k3.png\" width=\"350\" height=\"50\"/>\n",
    "\n",
    "\n",
    "### 3.2 Regression\n",
    "In regression the KNN algorithm works in the same way as the classification case. The only difference is that, since now we have a continuous rather than categorical output, we predict $y^*$ with the *average* of the output in the neighborhood $S_{\\mathbf{x}^*}$: \n",
    "\n",
    "$$ y^* = \\frac{\\sum_{i \\in S_{\\mathbf{x}^*}} y_i}{\\sum_{i=1}^{n} \\mathcal{I}(\\mathbf{x}_i \\in S_{\\mathbf{x}^*})} $$\n",
    "\n",
    "\n",
    "### 3.3 Varying k\n",
    "Increasing the number of neighbors $k$ has the effect of decreasing model complexity; this is due to the fact that predictions become function of a larger number of points and, therefore, less dependent on specific data points of the training set. This results in a smoother decision boundary in a classification, and in a smoother prediction function in regression. Decreasing $k$, of course, has the opposite effect. For the bias-variance tradeoff, when KNN is overfitting, increasing $k$ has the effect of decreasing the variance of the predictions; when KNN is underfitting, decreasing $k$ has the effect of decreasing the bias of the predictions.   \n",
    "\n",
    "We see in the following plots the effect of varying $k$ on a regression function (with $p=1$ feature) above; and the effect on classification boundaries ($p=2$ features) below. \n",
    "\n",
    "<img src=\"./img/knn/varying_k.png\" width=\"800\" height=\"50\"/>\n",
    "\n",
    "\n",
    "\n",
    "Look at the picture, and answer the following quesions: Where do you expect higher training error, and where a lower one? Where do you expect higher test error, and were a lower one? \n",
    "\n",
    "\n",
    "## 4. Speeding Up KNN\n",
    "For each new example we need to predict, the KNN algorithm presented above needs to compute a distance function for all the points in the training dataset, which takes $\\mathcal{O}(pn)$ operations. This means that for $m$ new points that need to be predicted, the prediction time take $\\mathcal{O}(mpn)$ operations: this version of KNN is also called *brute-force* method, as all training points are repeatedly checked. It results clear, then, that in large datasets the computational performance of KNN gets dramatically slow. \n",
    "\n",
    "For this reason, methods have been devised that pre-process the data by storing them in form of *tree data structures* (a bit similar to the structure created by decision trees, but conceptually different). If the created trees are well balanced, prediction time can get as low as $\\mathcal{O}(mp\\ log_2n)$ operations. The two most common tree structures for KNN are known as *KD-trees* and *Ball-trees*. \n",
    "\n",
    "**KD-trees**. KD-trees start by considering the whole sampling space, and perform splits at the medium point of the dimension with highest variability (for example, the mean or median points of the feature with largest variance). The process is repeated recursively, and it can be stopped when all units end up in their own leaf (but not necessarily: it can also end when a predetermined number of leaves has been reached). At this point, performing a prediction is just a matter of descending the units we want to predict down the branches of the tree, towards the region the point belongs to (which is a $\\mathcal{O}(log_2(n))$ operation for a fully grown balanced tree, as we have seen with decision trees). The point lying in the resulting node is a candidate nearest-neighbor; to check whether closer neighbors exist, we can explore the node's siblings, its parent, and so on and so forth, until there are no more potential nodes that are closer to the candidate one (otherwise, you should just update the candidate point). If the tree is well-balanced, the computational time of KD-trees represents a considerable increase of speed w.r.t. the brute-force method. You can find more information about KD-trees on the corresponding [Wikipedia page](https://en.wikipedia.org/wiki/K-d_tree). \n",
    "\n",
    "The next figure, taken and re-adapted from the book [\"Data Mining\" by Witten et. al](https://www.cs.waikato.ac.nz/ml/weka/book.html), shows a toy example of how KD-trees split the data region, and how the corresponding KD-tree is built. \n",
    "\n",
    "<img src=\"./img/knn/kd_tree.png\" width=\"650\" height=\"50\"/>\n",
    "\n",
    "\n",
    "\n",
    "**Ball-trees**. KD-trees work well in a moderate number of dimensions (not more than 20 or 30), but they start to perform poorly as the number of dimensions increases. The reason is that in high dimensions the trees are not able to reduce sufficiently the distance between points, and exhaustive search across several nodes (data points) must be performed. An improvement of KD-trees is given by ball trees, which splits the data space into hyper-spherical, rather than hyper-rectangular, regions. Because of this simple modification, Ball-trees can become more efficient than KD-trees, as they allow to better separate the nodes and identify the correct region of new points, by using information about center and radius of each hyper-sphere. Creating splits and new nodes for a ball-tree data structure requires clustering units into the (sub-)regions centers, and calculating the minimum radius necessary to enclose all units. Building a Ball-tree is computationally slower than building a KD-tree, but it gains performance during the prediction stage in high dimensions. However, as the number of dimensions become larger, also Ball-trees loose performance computationally. More information can be found in the [Wikipedia page](https://en.wikipedia.org/wiki/Ball_tree#Nearest-neighbor_search). \n",
    "\n",
    "This figure, also taken from [\"Data Mining\"](https://www.cs.waikato.ac.nz/ml/weka/book.html), shows an example of Ball-tree for a dataset of $n=16$ points in 2 dimensions. The dash styles of the circles denote the corresponding nodes of the tree, while smaller circles are drawn in shades of grey. The numbers of the tree indicate how many data points are inside each ball.\n",
    "\n",
    "<img src=\"./img/knn/ball_tree.png\" width=\"550\" height=\"50\"/>\n",
    "\n",
    "To sum up: \n",
    "* the brute-force method should be preferred for small datasets\n",
    "* for moderately-sized datasets ($p \\leq \\sim 30$), use KD-trees\n",
    "* for large datasets, use Ball-Trees\n",
    "\n",
    "## 5. The curse of Dimensionality\n",
    "KNN and other non-parametric method (such as kernelized SVM, for instance) are particularly sensible to the number of dimensions $p$ present in the data. This means, for a fixed sample size $n$, that their performance deteriorates with increasing $p$. This phenomenon is known in the literature as *the curse of dimensionality*. \n",
    "\n",
    "Non-parametric methods are particularly exposed to the curse of dimensionality, as they rely on the presence of *dense regions of points* in order to provide reliable predictions. If you think about KNN, this makes intuitively sense: if several observations are present in the neighborhood of a point, then we can \"trust\" more their prediction. The problem with increasing dimensions (for fixed $n$) is that the regions of the feature space become increasingly less dense, and the distance between observations tend to increase dramatically as the number of dimensions becomes larger and larger. \n",
    "\n",
    "As a simple example, consider the following three plots, which show 20 point randomly drawn from a 1D line in 0-1, a 2D unit square, and a 3D unit cube: \n",
    "\n",
    "<img src=\"./img/knn/curse_dimensionality.png\" width=\"900\" height=\"50\"/>\n",
    "\n",
    "You can already see graphically that, as we increase the number of, the points tend to get farther and farther from each other. This can also be shown with a small simulation experiment; with increasing $p$, 1000 points were randomly generated from a $U(0,1)$ distribution, and the average distance between all data points was then calculated. The following graph reports the results, showing such average distance as a function of $p$:\n",
    "\n",
    "<img src=\"./img/knn/avg_distance.png\" width=\"400\" height=\"50\"/>\n",
    "\n",
    "As you can see, the average distance seems to increase logarithmically with the number of dimensions! This means that, the higher $p$, the more the data points we need to cover the same amount of space covered in lower dimensions. In particular, the number of data points needed grows *exponentially* with $p$; for $p$ as low as 100, this number is already extremely prohibitive! It is important, therefore, to keep in mind this fact when working with KNN and othe nonparametric models. The effect of the curse of dimensionality on parametric models is mitigated by the fact that parametric models make stronger assumption on the shape of the data, and thus require less observations to learn the assumed shape. Linear models, for instance, learn a number of parameters that (without interactions) do not grow exponentially with the number of features. In cases where $p>>n$, regularization methods offer a further weapon against the curse of dimensionality to parametric models.   \n",
    "\n",
    "## 6. KNN: Other Remarks\n",
    "* In order to not let features measured under larger scales dominate the other features in the distance function, it is important to scale the dataset either by normalization or by standardization before using KNN  \n",
    "* It can be shown that, for $n \\rightarrow +\\infty$, KNN with $k=1$ has a generalization error that is only two times the error of the best possible classifier (called [Bayes Classifier](https://en.wikipedia.org/wiki/Bayes_classifier))\n",
    "* the functioning of KNN is relatively easy to understand\n",
    "* Because no model is learned, the training time of KNN is equal to 0 \n",
    "* With low $k$, KNN can be very sensitive to noisy observations\n",
    "* A downside of KNN (besides the curse of dimensionality and the computational time during the prediction stage), is that the Euclidean distance (or any distance metric) give the same importance to the features; this problem can be partially solved by performing feature selection before running this algorithm, or by weighting the distance function with suitable feature-specific weights\n",
    "\n",
    "## 7. Exampes in Python\n",
    "To demonstrate how to use the KNN functions of `scikit-learn`, we will use the same classification (*Iris* reduced) and regression (*Regression Demo*) datasets used with decision trees. The scikit-learn functions are in the `sklearn.neighbors` module. \n",
    "### 7.1 Classification\n",
    "We will start by importing the data, and then we will initialize [KNeighborsClassifier](https://scikit-learn.org/stable/modules/generated/sklearn.neighbors.KNeighborsClassifier.html) with $k=5$ and Euclidean distance. "
   ]
  },
  {
   "cell_type": "code",
   "execution_count": 2,
   "metadata": {},
   "outputs": [
    {
     "data": {
      "image/png": "[encoded data removed]",
      "text/plain": [
       "<Figure size 360x360 with 1 Axes>"
      ]
     },
     "metadata": {
      "needs_background": "light"
     },
     "output_type": "display_data"
    }
   ],
   "source": [
    "from sklearn.model_selection import train_test_split\n",
    "data = pd.read_csv(\"./data/knn/iris_reduced.csv\") \n",
    "X = data.iloc[:,:2]\n",
    "y = data.iloc[:,2]\n",
    "X_train, X_test, y_train, y_test = train_test_split(X, y, stratify=y, random_state=1, test_size=0.2)\n",
    "\n",
    "plt.figure(figsize=(5,5))\n",
    "plt.plot(X_train.loc[y_train==0].iloc[:,0], X_train.loc[y_train==0].iloc[:,1], \"bo\", label=\"0:setosa\" )\n",
    "plt.plot(X_train.loc[y_train==1].iloc[:,0], X_train.loc[y_train==1].iloc[:,1], \"go\", label=\"1:versicolor\" )\n",
    "plt.plot(X_train.loc[y_train==2].iloc[:,0], X_train.loc[y_train==2].iloc[:,1], \"yo\", label=\"2:virginica\" )\n",
    "plt.xlabel(\"petal length\")\n",
    "plt.ylabel(\"petal width\")\n",
    "plt.legend()\n",
    "plt.show()"
   ]
  },
  {
   "cell_type": "markdown",
   "metadata": {},
   "source": [
    "The hyperparameter `p` of `KNeighborsClassifier` refers to the order of the Minkowski distance. Thus, `p=2` indicates the Euclidean distance. "
   ]
  },
  {
   "cell_type": "code",
   "execution_count": 3,
   "metadata": {},
   "outputs": [
    {
     "data": {
      "text/plain": [
       "KNeighborsClassifier(algorithm='auto', leaf_size=30, metric='minkowski',\n",
       "                     metric_params=None, n_jobs=None, n_neighbors=5, p=2,\n",
       "                     weights='uniform')"
      ]
     },
     "execution_count": 3,
     "metadata": {},
     "output_type": "execute_result"
    }
   ],
   "source": [
    "# Initialize KNeighborsClassifier with k=5, and perform predictions\n",
    "from sklearn.neighbors import KNeighborsClassifier\n",
    "knn_clf = KNeighborsClassifier(n_neighbors=5, p=2)\n",
    "knn_clf.fit(X_train, y_train)"
   ]
  },
  {
   "cell_type": "markdown",
   "metadata": {},
   "source": [
    "No model is learned by KNN, so no significant model output can be explored. For a test (or training) point, we can query its neighborhood for the given $k$. Let's find the k-nearest-neighbors of the first two test points: "
   ]
  },
  {
   "cell_type": "code",
   "execution_count": 4,
   "metadata": {
    "scrolled": true
   },
   "outputs": [
    {
     "data": {
      "text/plain": [
       "(array([[0.2236068 , 0.2236068 , 0.3       , 0.42426407, 0.4472136 ],\n",
       "        [0.        , 0.1       , 0.1       , 0.1       , 0.1       ]]),\n",
       " array([[ 58, 112,  96, 108,  39],\n",
       "        [107,  19,  67,  56,  29]], dtype=int32))"
      ]
     },
     "execution_count": 4,
     "metadata": {},
     "output_type": "execute_result"
    }
   ],
   "source": [
    "knn_clf.kneighbors(X_test[:2])"
   ]
  },
  {
   "cell_type": "markdown",
   "metadata": {},
   "source": [
    "We can also obtain the predicted probabilities of each class. For the first two test points: "
   ]
  },
  {
   "cell_type": "code",
   "execution_count": 5,
   "metadata": {
    "scrolled": true
   },
   "outputs": [
    {
     "data": {
      "text/plain": [
       "array([[0., 0., 1.],\n",
       "       [1., 0., 0.]])"
      ]
     },
     "execution_count": 5,
     "metadata": {},
     "output_type": "execute_result"
    }
   ],
   "source": [
    "knn_clf.predict_proba(X_test[:2])"
   ]
  },
  {
   "cell_type": "markdown",
   "metadata": {},
   "source": [
    "In turn, this means that the classed predicted by KNN are:"
   ]
  },
  {
   "cell_type": "code",
   "execution_count": 6,
   "metadata": {},
   "outputs": [
    {
     "data": {
      "text/plain": [
       "array([2, 0], dtype=int64)"
      ]
     },
     "execution_count": 6,
     "metadata": {},
     "output_type": "execute_result"
    }
   ],
   "source": [
    "knn_clf.predict(X_test[:2])"
   ]
  },
  {
   "cell_type": "markdown",
   "metadata": {},
   "source": [
    "The accuracy on the test set of KNN with k=5 is: "
   ]
  },
  {
   "cell_type": "code",
   "execution_count": 7,
   "metadata": {},
   "outputs": [
    {
     "data": {
      "text/plain": [
       "0.9666666666666667"
      ]
     },
     "execution_count": 7,
     "metadata": {},
     "output_type": "execute_result"
    }
   ],
   "source": [
    "knn_clf.score(X_test, y_test)"
   ]
  },
  {
   "cell_type": "markdown",
   "metadata": {},
   "source": [
    "Which is as good as the one of Decision trees. (Question: what is the implicit assumption made by KNN that seems to hold for the Iris data that makes it perform so well?). We conclude by plotting the decision boundaries: "
   ]
  },
  {
   "cell_type": "code",
   "execution_count": 8,
   "metadata": {
    "scrolled": true
   },
   "outputs": [
    {
     "data": {
      "image/png": "[encoded data removed]",
      "text/plain": [
       "<Figure size 360x360 with 1 Axes>"
      ]
     },
     "metadata": {
      "needs_background": "light"
     },
     "output_type": "display_data"
    }
   ],
   "source": [
    "xx1, xx2 = np.meshgrid(np.linspace(X.iloc[:,0].min()-0.5, X.iloc[:,0].max()+0.5, 100),\n",
    "                       np.linspace(X.iloc[:,1].min()-0.2, X.iloc[:,1].max()+0.5, 100))\n",
    "zz = knn_clf.predict(np.c_[xx1.ravel(), xx2.ravel()]).reshape(xx1.shape)\n",
    "\n",
    "plt.figure(figsize=(5,5))\n",
    "plt.plot(X_train.loc[y_train==0].iloc[:,0], X_train.loc[y_train==0].iloc[:,1], \"bo\", label=\"0:setosa\" )\n",
    "plt.plot(X_train.loc[y_train==1].iloc[:,0], X_train.loc[y_train==1].iloc[:,1], \"go\", label=\"1:versicolor\" )\n",
    "plt.plot(X_train.loc[y_train==2].iloc[:,0], X_train.loc[y_train==2].iloc[:,1], \"yo\", label=\"2:virginica\" )\n",
    "plt.contour(xx1, xx2, zz, levels=2, colors=['b', 'g', 'y'])\n",
    "plt.xlabel(\"petal length\")\n",
    "plt.ylabel(\"petal width\")\n",
    "plt.show()"
   ]
  },
  {
   "cell_type": "markdown",
   "metadata": {},
   "source": [
    "Despite the similar performance to Decision Trees, the decision boundaries of KNN are completely different! (Compare them with the notebook on Decision Trees). As an *exercise*, manipulate the values of $k$ and the order of the Minkowski distance $p$, to check how the boundaries and performance vary on this dataset. "
   ]
  },
  {
   "cell_type": "markdown",
   "metadata": {},
   "source": [
    "### 7.2 Regression\n",
    "KNN for regression is in the function [KNeighborsRegressor](https://scikit-learn.org/stable/modules/generated/sklearn.neighbors.KNeighborsRegressor.html). We will use the *regression demo* data, where the test data will be predicted with *k=10* and Manatthan distance (Minkowski with $p=1$). "
   ]
  },
  {
   "cell_type": "code",
   "execution_count": 9,
   "metadata": {
    "scrolled": true
   },
   "outputs": [
    {
     "data": {
      "image/png": "[encoded data removed]",
      "text/plain": [
       "<Figure size 432x288 with 1 Axes>"
      ]
     },
     "metadata": {
      "needs_background": "light"
     },
     "output_type": "display_data"
    }
   ],
   "source": [
    "data = pd.read_csv(\"./data/decision_trees/demo_regression.csv\")\n",
    "x = data['x']\n",
    "y = data['y']\n",
    "x_train, x_test, y_train, y_test = train_test_split(x, y, test_size=0.2, random_state=1)\n",
    "\n",
    "plt.figure(figsize=(6,4))\n",
    "plt.plot(x_train, y_train, \"bo\")\n",
    "plt.xlabel(\"x\")\n",
    "plt.ylabel(\"y\")\n",
    "plt.title(\"Regression: Demo Data\")\n",
    "plt.show()"
   ]
  },
  {
   "cell_type": "code",
   "execution_count": 10,
   "metadata": {},
   "outputs": [
    {
     "data": {
      "text/plain": [
       "KNeighborsRegressor(algorithm='auto', leaf_size=30, metric='minkowski',\n",
       "                    metric_params=None, n_jobs=None, n_neighbors=5, p=1,\n",
       "                    weights='uniform')"
      ]
     },
     "execution_count": 10,
     "metadata": {},
     "output_type": "execute_result"
    }
   ],
   "source": [
    "from sklearn.neighbors import KNeighborsRegressor\n",
    "x_train_np = x_train.to_numpy().reshape(-1,1)\n",
    "x_test_np = x_test.to_numpy().reshape(-1,1)\n",
    "\n",
    "knn_reg = KNeighborsRegressor(n_neighbors=5, p=1)    # K nearest neighbors with Manatthan distance\n",
    "knn_reg.fit(x_train_np, y_train)"
   ]
  },
  {
   "cell_type": "markdown",
   "metadata": {},
   "source": [
    "The neighbors of the first test point is: "
   ]
  },
  {
   "cell_type": "code",
   "execution_count": 11,
   "metadata": {},
   "outputs": [
    {
     "data": {
      "text/plain": [
       "(array([[0.01414736, 0.03868186, 0.35784086, 0.41456021, 0.48568841]]),\n",
       " array([[61, 55, 20, 33, 36]], dtype=int32))"
      ]
     },
     "execution_count": 11,
     "metadata": {},
     "output_type": "execute_result"
    }
   ],
   "source": [
    "knn_reg.kneighbors(x_test_np[0].reshape(1,-1))"
   ]
  },
  {
   "cell_type": "markdown",
   "metadata": {},
   "source": [
    "Predictions for the first five test points are:"
   ]
  },
  {
   "cell_type": "code",
   "execution_count": 12,
   "metadata": {},
   "outputs": [
    {
     "data": {
      "text/plain": [
       "array([10.27765785, 11.76013216, 10.07538499, 10.27765785, 10.07538499])"
      ]
     },
     "execution_count": 12,
     "metadata": {},
     "output_type": "execute_result"
    }
   ],
   "source": [
    "knn_reg.predict(x_test_np[:5])"
   ]
  },
  {
   "cell_type": "markdown",
   "metadata": {},
   "source": [
    "The $R^2$ value for the test set is:"
   ]
  },
  {
   "cell_type": "code",
   "execution_count": 13,
   "metadata": {},
   "outputs": [
    {
     "data": {
      "text/plain": [
       "0.9030030983343892"
      ]
     },
     "execution_count": 13,
     "metadata": {},
     "output_type": "execute_result"
    }
   ],
   "source": [
    "knn_reg.score(x_test_np, y_test)"
   ]
  },
  {
   "cell_type": "markdown",
   "metadata": {},
   "source": [
    "We can see the predictions across the range of the training points graphically: "
   ]
  },
  {
   "cell_type": "code",
   "execution_count": 14,
   "metadata": {},
   "outputs": [
    {
     "data": {
      "image/png": "[encoded data removed]",
      "text/plain": [
       "<Figure size 432x288 with 1 Axes>"
      ]
     },
     "metadata": {
      "needs_background": "light"
     },
     "output_type": "display_data"
    }
   ],
   "source": [
    "x_range = np.linspace(x_train_np.min(), x_train_np.max(), 100)\n",
    "reg_pred = knn_reg.predict(x_range.reshape(-1,1))\n",
    "\n",
    "plt.figure(figsize=(6,4))\n",
    "plt.plot(x_train, y_train, \"bo\")\n",
    "plt.plot(x_range, reg_pred, \"r-\", label=\"KNN(k=10) Predictions\")\n",
    "plt.xlabel(\"x\")\n",
    "plt.ylabel(\"y\")\n",
    "plt.title(\"Regression: Demo Data\")\n",
    "plt.legend(loc=3)\n",
    "plt.show()"
   ]
  },
  {
   "cell_type": "markdown",
   "metadata": {},
   "source": [
    "As usual, try out different setting for the KNN regressor (by varying k and the order of the Minkowski distance), and compare results."
   ]
  },
  {
   "cell_type": "markdown",
   "metadata": {},
   "source": [
    "**Note**. The type of algorithm used to find the nearest neighbors (brute-force, KD-tree, ball-tree), can be modified with the `algorithm` hyperparameter. Furthermore, scikit-learn also provides a `weights` hyperparameter, which allows weighing each neighbor for the final predictions. For instance, it is possible to give more weight to closer neighbors. See the functions documentation for further information. "
   ]
  },
  {
   "cell_type": "markdown",
   "metadata": {},
   "source": [
    "## 8. Example on the Heart Data\n",
    "We now test KNN with the Heart Dataset. We will use 10-fold-cross validation for model selection. In this case, we will vary the number of neighbors $k$; we will use the KD-tree algorithm for neighbors search, and the Manatthan distance. As an exercise, try to grid-search across different values of `k` (number of neighbors) and `p` (Minkovski distance order) simultaneously, and check the new results. "
   ]
  },
  {
   "cell_type": "code",
   "execution_count": 15,
   "metadata": {},
   "outputs": [],
   "source": [
    "# 1. Load datasets\n",
    "data_train = pd.read_csv(\"./data/heart_data/heart_train_processed.csv\")\n",
    "data_test = pd.read_csv(\"./data/heart_data/heart_test_processed.csv\")\n",
    "X_train = data_train.drop(\"y\", axis=1)\n",
    "X_test = data_test.drop(\"y\", axis=1)\n",
    "y_train = data_train[\"y\"]\n",
    "y_test = data_test[\"y\"]"
   ]
  },
  {
   "cell_type": "code",
   "execution_count": 16,
   "metadata": {},
   "outputs": [
    {
     "name": "stdout",
     "output_type": "stream",
     "text": [
      "Fitting 10 folds for each of 18 candidates, totalling 180 fits\n"
     ]
    },
    {
     "name": "stderr",
     "output_type": "stream",
     "text": [
      "[Parallel(n_jobs=-1)]: Using backend LokyBackend with 2 concurrent workers.\n",
      "[Parallel(n_jobs=-1)]: Done  96 tasks      | elapsed:    5.8s\n"
     ]
    },
    {
     "name": "stdout",
     "output_type": "stream",
     "text": [
      "CV Grid Search: Done\n"
     ]
    },
    {
     "name": "stderr",
     "output_type": "stream",
     "text": [
      "[Parallel(n_jobs=-1)]: Done 180 out of 180 | elapsed:    6.3s finished\n"
     ]
    }
   ],
   "source": [
    "# Prepare the grid and tune with GridSearchCV\n",
    "from sklearn.model_selection import GridSearchCV\n",
    "\n",
    "# Set parameter grid \n",
    "k_grid = [1, 2, 5, 8, 10, 12, 15, 20, 25, 30, 40, 50, 75, 90, 100, 110, 120, 150]\n",
    "tuning_parameters = [{'n_neighbors': k_grid}]\n",
    "\n",
    "# Launch GridSearchCV\n",
    "clf = GridSearchCV(KNeighborsClassifier(algorithm='kd_tree', p=1), tuning_parameters, cv=10, n_jobs=-1, verbose=2 )\n",
    "clf.fit(X_train, y_train)\n",
    "print(\"CV Grid Search: Done\")"
   ]
  },
  {
   "cell_type": "code",
   "execution_count": 17,
   "metadata": {
    "scrolled": true
   },
   "outputs": [
    {
     "data": {
      "text/plain": [
       "KNeighborsClassifier(algorithm='kd_tree', leaf_size=30, metric='minkowski',\n",
       "                     metric_params=None, n_jobs=None, n_neighbors=15, p=1,\n",
       "                     weights='uniform')"
      ]
     },
     "execution_count": 17,
     "metadata": {},
     "output_type": "execute_result"
    }
   ],
   "source": [
    "clf.best_estimator_"
   ]
  },
  {
   "cell_type": "markdown",
   "metadata": {},
   "source": [
    "The best number of neighbors found by GridSearchCV was $k=15$. Let's plot the values of $k$ against the CV accuracy:"
   ]
  },
  {
   "cell_type": "code",
   "execution_count": 18,
   "metadata": {
    "scrolled": true
   },
   "outputs": [
    {
     "data": {
      "image/png": "[encoded data removed]",
      "text/plain": [
       "<Figure size 720x288 with 1 Axes>"
      ]
     },
     "metadata": {
      "needs_background": "light"
     },
     "output_type": "display_data"
    }
   ],
   "source": [
    "cv_res = pd.DataFrame(clf.cv_results_).sort_values(by=\"param_n_neighbors\")\n",
    "plt.figure(figsize=(10, 4))\n",
    "plt.plot(np.linspace(1, len(k_grid), len(k_grid)), \n",
    "         cv_res[\"mean_test_score\"], \"b-\", label=\"CV Scores\")\n",
    "plt.xlabel(\"k\")\n",
    "plt.ylabel(\"CV Accuracy\")\n",
    "plt.xticks(np.linspace(1, len(k_grid), len(k_grid)), k_grid)\n",
    "plt.show()"
   ]
  },
  {
   "cell_type": "markdown",
   "metadata": {},
   "source": [
    "Another model with accuracy similar to the one of KNN with $k=15$ seems to be KNN with $k=100$. Let's compare the two scores:"
   ]
  },
  {
   "cell_type": "code",
   "execution_count": 19,
   "metadata": {},
   "outputs": [
    {
     "data": {
      "text/plain": [
       "0.8351666666666666"
      ]
     },
     "execution_count": 19,
     "metadata": {},
     "output_type": "execute_result"
    }
   ],
   "source": [
    "# k=15: \n",
    "clf.best_score_"
   ]
  },
  {
   "cell_type": "code",
   "execution_count": 20,
   "metadata": {},
   "outputs": [
    {
     "data": {
      "text/plain": [
       "14    0.835167\n",
       "Name: mean_test_score, dtype: float64"
      ]
     },
     "execution_count": 20,
     "metadata": {},
     "output_type": "execute_result"
    }
   ],
   "source": [
    "# k=100: \n",
    "cv_res[cv_res.param_n_neighbors==100][\"mean_test_score\"]"
   ]
  },
  {
   "cell_type": "markdown",
   "metadata": {},
   "source": [
    "The two accuracies are actually the same. We decide anyway to continue with $k=15$. The final accuracy on the test set is:   "
   ]
  },
  {
   "cell_type": "code",
   "execution_count": 21,
   "metadata": {},
   "outputs": [
    {
     "data": {
      "text/plain": [
       "0.8032786885245902"
      ]
     },
     "execution_count": 21,
     "metadata": {},
     "output_type": "execute_result"
    }
   ],
   "source": [
    "clf.best_estimator_.score(X_test, y_test)"
   ]
  },
  {
   "cell_type": "markdown",
   "metadata": {},
   "source": [
    "Thus, the best KNN found by Cross-Validation seem to perform worse than linear models, but better than Decision Trees on the Heart Dataset. "
   ]
  }
 ],
 "metadata": {
  "kernelspec": {
   "display_name": "Python 3",
   "language": "python",
   "name": "python3"
  },
  "language_info": {
   "codemirror_mode": {
    "name": "ipython",
    "version": 3
   },
   "file_extension": ".py",
   "mimetype": "text/x-python",
   "name": "python",
   "nbconvert_exporter": "python",
   "pygments_lexer": "ipython3",
   "version": "3.8.0"
  }
 },
 "nbformat": 4,
 "nbformat_minor": 2
}
